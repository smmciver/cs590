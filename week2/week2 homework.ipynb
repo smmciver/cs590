{
 "cells": [
  {
   "cell_type": "code",
   "execution_count": 1,
   "metadata": {},
   "outputs": [
    {
     "data": {
      "text/html": [
       "32"
      ],
      "text/latex": [
       "32"
      ],
      "text/markdown": [
       "32"
      ],
      "text/plain": [
       "[1] 32"
      ]
     },
     "metadata": {},
     "output_type": "display_data"
    }
   ],
   "source": [
    "#What is 2 to the power of 5?\n",
    "2**5"
   ]
  },
  {
   "cell_type": "code",
   "execution_count": 5,
   "metadata": {},
   "outputs": [],
   "source": [
    "#Create a vector called peanut.weight with the following data points: 89.4, 78.2, 91.4, 95.2, 105.5\n",
    "peanut.weight <- c(89.4,78.2,91.4,95.2,105.5)"
   ]
  },
  {
   "cell_type": "code",
   "execution_count": 6,
   "metadata": {},
   "outputs": [],
   "source": [
    "#Assign the following names (in order) to the peanut.weight vector: Sullivan, Bailey, Bailey II, Emery, Wynne\n",
    "names(peanut.weight) <- c('Sullivan','Bailey','Bailey II', 'Emery', 'Wynne')"
   ]
  },
  {
   "cell_type": "code",
   "execution_count": 8,
   "metadata": {},
   "outputs": [
    {
     "data": {
      "text/html": [
       "91.94"
      ],
      "text/latex": [
       "91.94"
      ],
      "text/markdown": [
       "91.94"
      ],
      "text/plain": [
       "[1] 91.94"
      ]
     },
     "metadata": {},
     "output_type": "display_data"
    }
   ],
   "source": [
    "#What was the average weight of all peanut lines?\n",
    "mean(peanut.weight)"
   ]
  },
  {
   "cell_type": "code",
   "execution_count": 12,
   "metadata": {},
   "outputs": [],
   "source": [
    "#Create a vector called over.90 consisting of logicals that correspond to the peanut lines \n",
    "#where the weight was more than 90 grams per 100 seeds\n",
    "\n",
    "over.90 <- peanut.weight[peanut.weight>90]"
   ]
  },
  {
   "cell_type": "code",
   "execution_count": 21,
   "metadata": {},
   "outputs": [
    {
     "data": {
      "text/html": [
       "91.4"
      ],
      "text/latex": [
       "91.4"
      ],
      "text/markdown": [
       "91.4"
      ],
      "text/plain": [
       "[1] 91.4"
      ]
     },
     "metadata": {},
     "output_type": "display_data"
    }
   ],
   "source": [
    "#Use a built-in R function to find the peanut line with the smallest seed in over.90\n",
    "min(over.90)"
   ]
  },
  {
   "cell_type": "code",
   "execution_count": 25,
   "metadata": {},
   "outputs": [],
   "source": [
    "#Format the following variables to print the resulting sentence\n",
    "\n",
    "#Cultivar = 'Bailey II'\n",
    "#Weight = '91.4 grams per 100 seeds'\n",
    "\n",
    "cultivar <- 'Bailey II'\n",
    "weight <- '91.4 grams per 100 seeds'"
   ]
  },
  {
   "cell_type": "code",
   "execution_count": 26,
   "metadata": {},
   "outputs": [
    {
     "data": {
      "text/html": [
       "'The cultivar Bailey II has a seed weight of 91.4 grams per 100 seeds'"
      ],
      "text/latex": [
       "'The cultivar Bailey II has a seed weight of 91.4 grams per 100 seeds'"
      ],
      "text/markdown": [
       "'The cultivar Bailey II has a seed weight of 91.4 grams per 100 seeds'"
      ],
      "text/plain": [
       "[1] \"The cultivar Bailey II has a seed weight of 91.4 grams per 100 seeds\""
      ]
     },
     "metadata": {},
     "output_type": "display_data"
    }
   ],
   "source": [
    "sprintf('The cultivar %s has a seed weight of %s',cultivar, weight)"
   ]
  },
  {
   "cell_type": "code",
   "execution_count": null,
   "metadata": {},
   "outputs": [],
   "source": []
  }
 ],
 "metadata": {
  "kernelspec": {
   "display_name": "R",
   "language": "R",
   "name": "ir"
  },
  "language_info": {
   "name": ""
  }
 },
 "nbformat": 4,
 "nbformat_minor": 4
}
