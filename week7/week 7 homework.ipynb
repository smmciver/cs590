{
 "cells": [
  {
   "cell_type": "code",
   "execution_count": 9,
   "metadata": {},
   "outputs": [],
   "source": [
    "#Note: sample() allows you to select a random integer between two values - run help(sample) to determine the syntax"
   ]
  },
  {
   "cell_type": "code",
   "execution_count": 10,
   "metadata": {},
   "outputs": [],
   "source": [
    "#help(sample)"
   ]
  },
  {
   "cell_type": "code",
   "execution_count": 1,
   "metadata": {},
   "outputs": [],
   "source": [
    "x<-1:100\n",
    "answer<-sample(x,1)\n",
    "guess<-c(0)\n",
    "guesses<-c(0)"
   ]
  },
  {
   "cell_type": "code",
   "execution_count": 2,
   "metadata": {},
   "outputs": [
    {
     "data": {
      "text/html": [
       "83"
      ],
      "text/latex": [
       "83"
      ],
      "text/markdown": [
       "83"
      ],
      "text/plain": [
       "[1] 83"
      ]
     },
     "metadata": {},
     "output_type": "display_data"
    }
   ],
   "source": [
    "answer"
   ]
  },
  {
   "cell_type": "code",
   "execution_count": 12,
   "metadata": {},
   "outputs": [
    {
     "data": {
      "text/html": [
       "0"
      ],
      "text/latex": [
       "0"
      ],
      "text/markdown": [
       "0"
      ],
      "text/plain": [
       "[1] 0"
      ]
     },
     "metadata": {},
     "output_type": "display_data"
    }
   ],
   "source": [
    "length(guesses)-1"
   ]
  },
  {
   "cell_type": "code",
   "execution_count": 13,
   "metadata": {},
   "outputs": [],
   "source": [
    "#Next, print an introduction to the game and explain the rule"
   ]
  },
  {
   "cell_type": "code",
   "execution_count": 14,
   "metadata": {},
   "outputs": [
    {
     "name": "stdout",
     "output_type": "stream",
     "text": [
      "[1] \"WELCOME TO GUESS ME\"\n",
      "[1] \"I'm thinking of a number between 1 and 100\"\n",
      "[1] \"If your guess is more than 10 away from my number, I'll tell you you're COLD\"\n",
      "[1] \"If your guess is within 10 of my number, I'll tell you you're WARM\"\n",
      "[1] \"If your guess is farther than your most recent guess, I'll say you're getting COLDER\"\n",
      "[1] \"If your guess is closer than your most recent guess, I'll say you're getting WARMER\"\n",
      "[1] \"LET'S PLAY!\"\n"
     ]
    }
   ],
   "source": [
    "temp_var<-c(\n",
    "    'WELCOME TO GUESS ME', \n",
    "     \"I'm thinking of a number between 1 and 100\", \n",
    "     \"If your guess is more than 10 away from my number, I'll tell you you're COLD\",\n",
    "     \"If your guess is within 10 of my number, I'll tell you you're WARM\",\n",
    "     \"If your guess is farther than your most recent guess, I'll say you're getting COLDER\",\n",
    "     \"If your guess is closer than your most recent guess, I'll say you're getting WARMER\",\n",
    "     \"LET'S PLAY!\")\n",
    "     \n",
    "for (a in temp_var){    \n",
    "    print(a)\n",
    "}"
   ]
  },
  {
   "cell_type": "code",
   "execution_count": 15,
   "metadata": {},
   "outputs": [],
   "source": [
    "#Create a list to store guesses\n",
    "#HINT: Zero is a good placeholder value. It's useful because it evaluates to \"FALSE\" based on the conditions of the game"
   ]
  },
  {
   "cell_type": "code",
   "execution_count": 16,
   "metadata": {},
   "outputs": [
    {
     "name": "stdin",
     "output_type": "stream",
     "text": [
      "Guess a number between 1 and 100. What is your guess? 45\n"
     ]
    },
    {
     "name": "stderr",
     "output_type": "stream",
     "text": [
      "Great! Got it\n",
      "1 guesses\n"
     ]
    }
   ],
   "source": [
    "#Write a while loop that asks for a valid guess. Test it a few times to make sure it works.\n",
    "#NOTE: Use the built-in R function readlines() to get user input. \n",
    "#Use message() to print text to the console while the loop is running\n",
    "\n",
    "while (guess <1 | guess >100){\n",
    "\n",
    "    guess=as.integer(readline(prompt=\"Guess a number between 1 and 100. What is your guess?\"))\n",
    "    guesses<-append(guesses,guess)\n",
    "    \n",
    "    if(guess == answer){\n",
    "    message(\"You guessed the number!\")\n",
    "    break\n",
    "    }\n",
    "    \n",
    "    if(guess <1 | guess >100){\n",
    "    message(\"Out of bounds; Try again\")\n",
    "    next\n",
    "    }\n",
    "    \n",
    "    if (guess >1 | guess <100){\n",
    "    message(\"Great! Got it\")\n",
    "    message(sprintf(\"%s guesses\", length(guesses)-1))\n",
    "    break\n",
    "    }\n",
    "   \n",
    "    }\n",
    "    "
   ]
  },
  {
   "cell_type": "code",
   "execution_count": 17,
   "metadata": {},
   "outputs": [
    {
     "data": {
      "text/html": [
       "<ol class=list-inline>\n",
       "\t<li>0</li>\n",
       "\t<li>45</li>\n",
       "</ol>\n"
      ],
      "text/latex": [
       "\\begin{enumerate*}\n",
       "\\item 0\n",
       "\\item 45\n",
       "\\end{enumerate*}\n"
      ],
      "text/markdown": [
       "1. 0\n",
       "2. 45\n",
       "\n",
       "\n"
      ],
      "text/plain": [
       "[1]  0 45"
      ]
     },
     "metadata": {},
     "output_type": "display_data"
    }
   ],
   "source": [
    "guesses"
   ]
  },
  {
   "cell_type": "code",
   "execution_count": 18,
   "metadata": {},
   "outputs": [
    {
     "data": {
      "text/html": [
       "0"
      ],
      "text/latex": [
       "0"
      ],
      "text/markdown": [
       "0"
      ],
      "text/plain": [
       "[1] 0"
      ]
     },
     "metadata": {},
     "output_type": "display_data"
    }
   ],
   "source": [
    "guesses[length(guesses)-1]"
   ]
  },
  {
   "cell_type": "code",
   "execution_count": 5,
   "metadata": {},
   "outputs": [],
   "source": [
    "guess<-c(0)\n",
    "guesses<-c(0)"
   ]
  },
  {
   "cell_type": "code",
   "execution_count": 20,
   "metadata": {},
   "outputs": [],
   "source": [
    "#Write a while loop that compares the player's guess to our number. If the player guesses correctly, break from the loop. \n",
    "#Otherwise, tell the player if they're warmer or colder, and continue asking for guesses."
   ]
  },
  {
   "cell_type": "code",
   "execution_count": 7,
   "metadata": {},
   "outputs": [
    {
     "name": "stdin",
     "output_type": "stream",
     "text": [
      "Guess a number between 1 and 100. \n",
      "What is your guess? 34\n"
     ]
    },
    {
     "name": "stderr",
     "output_type": "stream",
     "text": [
      "Cold\n"
     ]
    },
    {
     "name": "stdin",
     "output_type": "stream",
     "text": [
      "Guess a number between 1 and 100. \n",
      "What is your guess? 56\n"
     ]
    },
    {
     "name": "stderr",
     "output_type": "stream",
     "text": [
      "Warmer\n"
     ]
    },
    {
     "name": "stdin",
     "output_type": "stream",
     "text": [
      "Guess a number between 1 and 100. \n",
      "What is your guess? 87\n"
     ]
    },
    {
     "name": "stderr",
     "output_type": "stream",
     "text": [
      "Warmer\n"
     ]
    },
    {
     "name": "stdin",
     "output_type": "stream",
     "text": [
      "Guess a number between 1 and 100. \n",
      "What is your guess? 89\n"
     ]
    },
    {
     "name": "stderr",
     "output_type": "stream",
     "text": [
      "Colder\n"
     ]
    },
    {
     "name": "stdin",
     "output_type": "stream",
     "text": [
      "Guess a number between 1 and 100. \n",
      "What is your guess? 86\n"
     ]
    },
    {
     "name": "stderr",
     "output_type": "stream",
     "text": [
      "Warmer\n"
     ]
    },
    {
     "name": "stdin",
     "output_type": "stream",
     "text": [
      "Guess a number between 1 and 100. \n",
      "What is your guess? 65\n"
     ]
    },
    {
     "name": "stderr",
     "output_type": "stream",
     "text": [
      "Colder\n"
     ]
    },
    {
     "name": "stdin",
     "output_type": "stream",
     "text": [
      "Guess a number between 1 and 100. \n",
      "What is your guess? 85\n"
     ]
    },
    {
     "name": "stderr",
     "output_type": "stream",
     "text": [
      "Warmer\n"
     ]
    },
    {
     "name": "stdin",
     "output_type": "stream",
     "text": [
      "Guess a number between 1 and 100. \n",
      "What is your guess? 84\n"
     ]
    },
    {
     "name": "stderr",
     "output_type": "stream",
     "text": [
      "Warmer\n"
     ]
    },
    {
     "name": "stdin",
     "output_type": "stream",
     "text": [
      "Guess a number between 1 and 100. \n",
      "What is your guess? 83\n"
     ]
    },
    {
     "name": "stderr",
     "output_type": "stream",
     "text": [
      "You guessed the number in 9!\n"
     ]
    }
   ],
   "source": [
    "\n",
    "while (guess != answer){\n",
    "\n",
    "    guess=as.integer(readline(prompt=\"Guess a number between 1 and 100. \\nWhat is your guess?\"))\n",
    "    \n",
    "    \n",
    "    if(guess == answer){\n",
    "    message(sprintf(\"You guessed the number in %s guesses!\", length(guesses)))\n",
    "    break\n",
    "    }\n",
    "    \n",
    "    if(guess <1 | guess >100){\n",
    "    message(\"Out of bounds; Try again\")\n",
    "    next\n",
    "    }\n",
    "    \n",
    "    guesses<-append(guesses,guess)\n",
    "    \n",
    "        if(length(guesses) == 2){\n",
    "    \n",
    "        if(abs(guesses[length(guesses)]-answer) > 10){\n",
    "        message(\"Cold\")\n",
    "        }else{\n",
    "        message(\"Warm\")}\n",
    "        }\n",
    "    \n",
    "    if(length(guesses) > 2){\n",
    "    \n",
    "        if((abs(guesses[length(guesses)]-answer))< (abs(guesses[length(guesses)-1]-answer))){\n",
    "        message(\"Warmer\")\n",
    "        }else{\n",
    "        message(\"Colder\")}\n",
    "        }\n",
    "       \n",
    "        }\n",
    "    \n",
    "\n",
    "    "
   ]
  },
  {
   "cell_type": "code",
   "execution_count": 1,
   "metadata": {},
   "outputs": [
    {
     "ename": "ERROR",
     "evalue": "Error in eval(expr, envir, enclos): object 'guesses' not found\n",
     "output_type": "error",
     "traceback": [
      "Error in eval(expr, envir, enclos): object 'guesses' not found\nTraceback:\n"
     ]
    }
   ],
   "source": [
    "length(guesses)-1"
   ]
  },
  {
   "cell_type": "code",
   "execution_count": 28,
   "metadata": {},
   "outputs": [
    {
     "data": {
      "text/html": [
       "<ol class=list-inline>\n",
       "\t<li>0</li>\n",
       "\t<li>123</li>\n",
       "\t<li>234</li>\n",
       "\t<li>14</li>\n",
       "</ol>\n"
      ],
      "text/latex": [
       "\\begin{enumerate*}\n",
       "\\item 0\n",
       "\\item 123\n",
       "\\item 234\n",
       "\\item 14\n",
       "\\end{enumerate*}\n"
      ],
      "text/markdown": [
       "1. 0\n",
       "2. 123\n",
       "3. 234\n",
       "4. 14\n",
       "\n",
       "\n"
      ],
      "text/plain": [
       "[1]   0 123 234  14"
      ]
     },
     "metadata": {},
     "output_type": "display_data"
    }
   ],
   "source": [
    "guesses\n"
   ]
  },
  {
   "cell_type": "code",
   "execution_count": null,
   "metadata": {},
   "outputs": [],
   "source": [
    "temp_var<-c(\n",
    "    'WELCOME TO GUESS ME', \n",
    "     \"I'm thinking of a number between 1 and 100\", \n",
    "     \"If your guess is more than 10 away from my number, I'll tell you you're COLD\",\n",
    "     \"If your guess is within 10 of my number, I'll tell you you're WARM\",\n",
    "     \"If your guess is farther than your most recent guess, I'll say you're getting COLDER\",\n",
    "     \"If your guess is closer than your most recent guess, I'll say you're getting WARMER\",\n",
    "     \"LET'S PLAY!\")\n",
    "     \n",
    "for (a in temp_var){    \n",
    "    print(a)\n",
    "}\n",
    "\n",
    "x<-1:100\n",
    "answer<-sample(x,1)\n",
    "\n",
    "guess<-c(0)\n",
    "guesses<-c(0)\n",
    "\n",
    "\n",
    "while (guess != answer){\n",
    "\n",
    "    guess=as.integer(readline(prompt=\"Guess a number between 1 and 100. \\nWhat is your guess?\"))\n",
    "    \n",
    "    \n",
    "    if(guess == answer){\n",
    "    message(sprintf(\"You guessed the number in %s guesses!\", length(guesses)))\n",
    "    break\n",
    "    }\n",
    "    \n",
    "    if(guess <1 | guess >100){\n",
    "    message(\"Out of bounds; Try again\")\n",
    "    next\n",
    "    }\n",
    "    \n",
    "    guesses<-append(guesses,guess)\n",
    "    \n",
    "        if(length(guesses) == 2){\n",
    "    \n",
    "        if(abs(guesses[length(guesses)]-answer) > 10){\n",
    "        message(\"Cold\")\n",
    "        }else{\n",
    "        message(\"Warm\")}\n",
    "        }\n",
    "    \n",
    "    if(length(guesses) > 2){\n",
    "    \n",
    "        if((abs(guesses[length(guesses)]-answer))< (abs(guesses[length(guesses)-1]-answer))){\n",
    "        message(\"Warmer\")\n",
    "        }else{\n",
    "        message(\"Colder\")}\n",
    "        }\n",
    "       \n",
    "        }"
   ]
  }
 ],
 "metadata": {
  "kernelspec": {
   "display_name": "R",
   "language": "R",
   "name": "ir"
  },
  "language_info": {
   "name": ""
  }
 },
 "nbformat": 4,
 "nbformat_minor": 4
}
