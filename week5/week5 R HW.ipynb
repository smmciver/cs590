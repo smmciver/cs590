{
 "cells": [
  {
   "cell_type": "code",
   "execution_count": 4,
   "metadata": {},
   "outputs": [],
   "source": [
    "#Recreate the following dataframe by using vectors and the data.frame function\n",
    "\n",
    "rowname<-c('N12006','N13003','N13042','N14002','N16021')\n",
    "OL_Ratio<-c(76.2,82.1,78.9,74.3,77.7)\n",
    "Leaf_spot<-c(5.5,7.2,6.5,4.2,3.1)\n",
    "Drought<-c(TRUE,FALSE,TRUE,FALSE,FALSE)\n"
   ]
  },
  {
   "cell_type": "code",
   "execution_count": 5,
   "metadata": {},
   "outputs": [],
   "source": [
    "dfhw<-data.frame(row.names=rowname,OL_Ratio,Leaf_spot,Drought)"
   ]
  },
  {
   "cell_type": "code",
   "execution_count": 6,
   "metadata": {},
   "outputs": [
    {
     "data": {
      "text/html": [
       "<table>\n",
       "<thead><tr><th></th><th scope=col>OL_Ratio</th><th scope=col>Leaf_spot</th><th scope=col>Drought</th></tr></thead>\n",
       "<tbody>\n",
       "\t<tr><th scope=row>N12006</th><td>76.2 </td><td>5.5  </td><td> TRUE</td></tr>\n",
       "\t<tr><th scope=row>N13003</th><td>82.1 </td><td>7.2  </td><td>FALSE</td></tr>\n",
       "\t<tr><th scope=row>N13042</th><td>78.9 </td><td>6.5  </td><td> TRUE</td></tr>\n",
       "\t<tr><th scope=row>N14002</th><td>74.3 </td><td>4.2  </td><td>FALSE</td></tr>\n",
       "\t<tr><th scope=row>N16021</th><td>77.7 </td><td>3.1  </td><td>FALSE</td></tr>\n",
       "</tbody>\n",
       "</table>\n"
      ],
      "text/latex": [
       "\\begin{tabular}{r|lll}\n",
       "  & OL\\_Ratio & Leaf\\_spot & Drought\\\\\n",
       "\\hline\n",
       "\tN12006 & 76.2  & 5.5   &  TRUE\\\\\n",
       "\tN13003 & 82.1  & 7.2   & FALSE\\\\\n",
       "\tN13042 & 78.9  & 6.5   &  TRUE\\\\\n",
       "\tN14002 & 74.3  & 4.2   & FALSE\\\\\n",
       "\tN16021 & 77.7  & 3.1   & FALSE\\\\\n",
       "\\end{tabular}\n"
      ],
      "text/markdown": [
       "\n",
       "| <!--/--> | OL_Ratio | Leaf_spot | Drought |\n",
       "|---|---|---|---|\n",
       "| N12006 | 76.2  | 5.5   |  TRUE |\n",
       "| N13003 | 82.1  | 7.2   | FALSE |\n",
       "| N13042 | 78.9  | 6.5   |  TRUE |\n",
       "| N14002 | 74.3  | 4.2   | FALSE |\n",
       "| N16021 | 77.7  | 3.1   | FALSE |\n",
       "\n"
      ],
      "text/plain": [
       "       OL_Ratio Leaf_spot Drought\n",
       "N12006 76.2     5.5        TRUE  \n",
       "N13003 82.1     7.2       FALSE  \n",
       "N13042 78.9     6.5        TRUE  \n",
       "N14002 74.3     4.2       FALSE  \n",
       "N16021 77.7     3.1       FALSE  "
      ]
     },
     "metadata": {},
     "output_type": "display_data"
    }
   ],
   "source": [
    "dfhw"
   ]
  },
  {
   "cell_type": "code",
   "execution_count": 7,
   "metadata": {},
   "outputs": [
    {
     "data": {
      "text/html": [
       "<table>\n",
       "<thead><tr><th></th><th scope=col>OL_Ratio</th><th scope=col>Leaf_spot</th><th scope=col>Drought</th></tr></thead>\n",
       "<tbody>\n",
       "\t<tr><th scope=row>N12006</th><td>76.2</td><td>5.5 </td><td>TRUE</td></tr>\n",
       "\t<tr><th scope=row>N13042</th><td>78.9</td><td>6.5 </td><td>TRUE</td></tr>\n",
       "</tbody>\n",
       "</table>\n"
      ],
      "text/latex": [
       "\\begin{tabular}{r|lll}\n",
       "  & OL\\_Ratio & Leaf\\_spot & Drought\\\\\n",
       "\\hline\n",
       "\tN12006 & 76.2 & 5.5  & TRUE\\\\\n",
       "\tN13042 & 78.9 & 6.5  & TRUE\\\\\n",
       "\\end{tabular}\n"
      ],
      "text/markdown": [
       "\n",
       "| <!--/--> | OL_Ratio | Leaf_spot | Drought |\n",
       "|---|---|---|---|\n",
       "| N12006 | 76.2 | 5.5  | TRUE |\n",
       "| N13042 | 78.9 | 6.5  | TRUE |\n",
       "\n"
      ],
      "text/plain": [
       "       OL_Ratio Leaf_spot Drought\n",
       "N12006 76.2     5.5       TRUE   \n",
       "N13042 78.9     6.5       TRUE   "
      ]
     },
     "metadata": {},
     "output_type": "display_data"
    }
   ],
   "source": [
    "#Which lines are considered drought tolerant?\n",
    "\n",
    "subset(dfhw,subset= Drought==TRUE)"
   ]
  },
  {
   "cell_type": "code",
   "execution_count": 8,
   "metadata": {},
   "outputs": [],
   "source": [
    "#Input the peanut_lines (CSV) and peanut_disease (Tab) datafile\n",
    "\n",
    "library(\"data.table\")\n",
    "peanut_lines<-fread('peanut_lines.csv')\n",
    "peanut_disease<-fread('peanut_disease.txt')"
   ]
  },
  {
   "cell_type": "code",
   "execution_count": 9,
   "metadata": {},
   "outputs": [
    {
     "data": {
      "text/html": [
       "<ol class=list-inline>\n",
       "\t<li>'NC_Accession'</li>\n",
       "\t<li>'Identity or Parentage'</li>\n",
       "\t<li>'Pedigree'</li>\n",
       "\t<li>'FAG'</li>\n",
       "</ol>\n"
      ],
      "text/latex": [
       "\\begin{enumerate*}\n",
       "\\item 'NC\\_Accession'\n",
       "\\item 'Identity or Parentage'\n",
       "\\item 'Pedigree'\n",
       "\\item 'FAG'\n",
       "\\end{enumerate*}\n"
      ],
      "text/markdown": [
       "1. 'NC_Accession'\n",
       "2. 'Identity or Parentage'\n",
       "3. 'Pedigree'\n",
       "4. 'FAG'\n",
       "\n",
       "\n"
      ],
      "text/plain": [
       "[1] \"NC_Accession\"          \"Identity or Parentage\" \"Pedigree\"             \n",
       "[4] \"FAG\"                  "
      ]
     },
     "metadata": {},
     "output_type": "display_data"
    },
    {
     "data": {
      "text/html": [
       "<ol class=list-inline>\n",
       "\t<li>'Year'</li>\n",
       "\t<li>'Location'</li>\n",
       "\t<li>'Name'</li>\n",
       "\t<li>'Label'</li>\n",
       "\t<li>'NC_Accession'</li>\n",
       "\t<li>'Rating'</li>\n",
       "\t<li>'Disease'</li>\n",
       "</ol>\n"
      ],
      "text/latex": [
       "\\begin{enumerate*}\n",
       "\\item 'Year'\n",
       "\\item 'Location'\n",
       "\\item 'Name'\n",
       "\\item 'Label'\n",
       "\\item 'NC\\_Accession'\n",
       "\\item 'Rating'\n",
       "\\item 'Disease'\n",
       "\\end{enumerate*}\n"
      ],
      "text/markdown": [
       "1. 'Year'\n",
       "2. 'Location'\n",
       "3. 'Name'\n",
       "4. 'Label'\n",
       "5. 'NC_Accession'\n",
       "6. 'Rating'\n",
       "7. 'Disease'\n",
       "\n",
       "\n"
      ],
      "text/plain": [
       "[1] \"Year\"         \"Location\"     \"Name\"         \"Label\"        \"NC_Accession\"\n",
       "[6] \"Rating\"       \"Disease\"     "
      ]
     },
     "metadata": {},
     "output_type": "display_data"
    }
   ],
   "source": [
    "#Check the column names of peanut_lines and peanut_disease\n",
    "colnames(peanut_lines)\n",
    "colnames(peanut_disease)"
   ]
  },
  {
   "cell_type": "code",
   "execution_count": 10,
   "metadata": {},
   "outputs": [],
   "source": [
    "#Merge peanut_lines and peanut_disease keeping the entirety of the peanut_disease information intact - \n",
    "#Name the data frame disease_data\n",
    "\n",
    "\n",
    "disease_data<-merge(peanut_lines, peanut_disease, by.x = 'NC_Accession', by.y='NC_Accession')\n"
   ]
  },
  {
   "cell_type": "code",
   "execution_count": 11,
   "metadata": {},
   "outputs": [],
   "source": [
    "#Subset the disease data to list only ratings for leaf spot ('LS') in a dataframe called leaf.spot\n",
    "\n",
    "leaf.spot<-subset(disease_data, Rating=='LS')\n"
   ]
  },
  {
   "cell_type": "code",
   "execution_count": 12,
   "metadata": {},
   "outputs": [],
   "source": [
    "#Drop all rows that contain missing values in the column 'Disease'\n",
    "\n",
    "disease_nona<-disease_data[!is.na(disease_data$Disease),]"
   ]
  },
  {
   "cell_type": "code",
   "execution_count": 13,
   "metadata": {},
   "outputs": [
    {
     "data": {
      "text/html": [
       "TRUE"
      ],
      "text/latex": [
       "TRUE"
      ],
      "text/markdown": [
       "TRUE"
      ],
      "text/plain": [
       "[1] TRUE"
      ]
     },
     "metadata": {},
     "output_type": "display_data"
    },
    {
     "data": {
      "text/html": [
       "FALSE"
      ],
      "text/latex": [
       "FALSE"
      ],
      "text/markdown": [
       "FALSE"
      ],
      "text/plain": [
       "[1] FALSE"
      ]
     },
     "metadata": {},
     "output_type": "display_data"
    }
   ],
   "source": [
    "any(is.na(disease_data))\n",
    "any(is.na(disease_nona))"
   ]
  },
  {
   "cell_type": "code",
   "execution_count": 23,
   "metadata": {},
   "outputs": [
    {
     "data": {
      "text/html": [
       "<strong>Disease:</strong> 7.5146875"
      ],
      "text/latex": [
       "\\textbf{Disease:} 7.5146875"
      ],
      "text/markdown": [
       "**Disease:** 7.5146875"
      ],
      "text/plain": [
       " Disease \n",
       "7.514687 "
      ]
     },
     "metadata": {},
     "output_type": "display_data"
    }
   ],
   "source": [
    "#What was the average leaf spot rating in 2017?\n",
    "colMeans(subset(leaf.spot, substr(Year,1,4)==2017, select=Disease))\n",
    "\n"
   ]
  },
  {
   "cell_type": "code",
   "execution_count": 63,
   "metadata": {},
   "outputs": [],
   "source": [
    "#Subset the leaf.spot dataframe to include only the following lines\n",
    "#line_names = 'Bailey', 'Bailey II', 'Wynne', 'Sullivan', 'Emery', 'N96076'\n",
    "\n",
    "\n",
    "#leaf.spot[leaf.spot$NC_Accession %in% c('Bailey', 'Bailey II', 'Wynne', 'Sullivan', 'Emery', 'N96076')] \n",
    "\n"
   ]
  },
  {
   "cell_type": "code",
   "execution_count": 72,
   "metadata": {},
   "outputs": [],
   "source": [
    "subset(leaf.spot, leaf.spot$NC_Accession %in% c('Bailey', 'Bailey II', 'Wynne', 'Sullivan', 'Emery', 'N96076'))"
   ]
  },
  {
   "cell_type": "code",
   "execution_count": 101,
   "metadata": {},
   "outputs": [],
   "source": [
    "leaf.spot.max <- aggregate(x = leaf.spot, \n",
    "                               by = list(max = leaf.spot$Rating), \n",
    "                               FUN = max)"
   ]
  },
  {
   "cell_type": "code",
   "execution_count": 102,
   "metadata": {},
   "outputs": [
    {
     "data": {
      "text/html": [
       "<table>\n",
       "<thead><tr><th scope=col>max</th><th scope=col>NC_Accession</th><th scope=col>Identity or Parentage</th><th scope=col>Pedigree</th><th scope=col>FAG</th><th scope=col>Year</th><th scope=col>Location</th><th scope=col>Name</th><th scope=col>Label</th><th scope=col>Rating</th><th scope=col>Disease</th></tr></thead>\n",
       "<tbody>\n",
       "\t<tr><td>LS                                                                       </td><td>Wynne                                                                    </td><td>Wynne /3/ X11015 , Wynne // X08054, N08059olFCT / GP-NC WS 16 (SPT 06-06)</td><td>F2-16-S-04-01-01: F09                                                    </td><td>ol ol                                                                    </td><td>2018                                                                     </td><td>LEW                                                                      </td><td>ATP-L                                                                    </td><td>Advanced Testing Program - Leafspot                                      </td><td>LS                                                                       </td><td>9.5                                                                      </td></tr>\n",
       "</tbody>\n",
       "</table>\n"
      ],
      "text/latex": [
       "\\begin{tabular}{r|lllllllllll}\n",
       " max & NC\\_Accession & Identity or Parentage & Pedigree & FAG & Year & Location & Name & Label & Rating & Disease\\\\\n",
       "\\hline\n",
       "\t LS                                                                        & Wynne                                                                     & Wynne /3/ X11015 , Wynne // X08054, N08059olFCT / GP-NC WS 16 (SPT 06-06) & F2-16-S-04-01-01: F09                                                     & ol ol                                                                     & 2018                                                                      & LEW                                                                       & ATP-L                                                                     & Advanced Testing Program - Leafspot                                       & LS                                                                        & 9.5                                                                      \\\\\n",
       "\\end{tabular}\n"
      ],
      "text/markdown": [
       "\n",
       "| max | NC_Accession | Identity or Parentage | Pedigree | FAG | Year | Location | Name | Label | Rating | Disease |\n",
       "|---|---|---|---|---|---|---|---|---|---|---|\n",
       "| LS                                                                        | Wynne                                                                     | Wynne /3/ X11015 , Wynne // X08054, N08059olFCT / GP-NC WS 16 (SPT 06-06) | F2-16-S-04-01-01: F09                                                     | ol ol                                                                     | 2018                                                                      | LEW                                                                       | ATP-L                                                                     | Advanced Testing Program - Leafspot                                       | LS                                                                        | 9.5                                                                       |\n",
       "\n"
      ],
      "text/plain": [
       "  max NC_Accession\n",
       "1 LS  Wynne       \n",
       "  Identity or Parentage                                                    \n",
       "1 Wynne /3/ X11015 , Wynne // X08054, N08059olFCT / GP-NC WS 16 (SPT 06-06)\n",
       "  Pedigree              FAG   Year Location Name \n",
       "1 F2-16-S-04-01-01: F09 ol ol 2018 LEW      ATP-L\n",
       "  Label                               Rating Disease\n",
       "1 Advanced Testing Program - Leafspot LS     9.5    "
      ]
     },
     "metadata": {},
     "output_type": "display_data"
    }
   ],
   "source": [
    "leaf.spot.max"
   ]
  },
  {
   "cell_type": "code",
   "execution_count": 105,
   "metadata": {},
   "outputs": [
    {
     "name": "stderr",
     "output_type": "stream",
     "text": [
      "also installing the dependencies 'rJava', 'xlsxjars'\n",
      "\n"
     ]
    },
    {
     "name": "stdout",
     "output_type": "stream",
     "text": [
      "package 'rJava' successfully unpacked and MD5 sums checked\n",
      "package 'xlsxjars' successfully unpacked and MD5 sums checked\n",
      "package 'xlsx' successfully unpacked and MD5 sums checked\n",
      "\n",
      "The downloaded binary packages are in\n",
      "\tC:\\Users\\cheph\\AppData\\Local\\Temp\\RtmpwzdtIY\\downloaded_packages\n"
     ]
    }
   ],
   "source": [
    "install.packages('xlsx',repos=\"http://cran.rstudio.com/\")"
   ]
  },
  {
   "cell_type": "code",
   "execution_count": 109,
   "metadata": {},
   "outputs": [
    {
     "ename": "ERROR",
     "evalue": "Error in write.xlsx(leaf.spot.max, \"leafspot.xlsx\"): could not find function \"write.xlsx\"\n",
     "output_type": "error",
     "traceback": [
      "Error in write.xlsx(leaf.spot.max, \"leafspot.xlsx\"): could not find function \"write.xlsx\"\nTraceback:\n"
     ]
    }
   ],
   "source": [
    "write.xlsx(leaf.spot.max, \"leafspot.xlsx\")"
   ]
  },
  {
   "cell_type": "code",
   "execution_count": null,
   "metadata": {},
   "outputs": [],
   "source": []
  }
 ],
 "metadata": {
  "kernelspec": {
   "display_name": "R",
   "language": "R",
   "name": "ir"
  },
  "language_info": {
   "name": ""
  }
 },
 "nbformat": 4,
 "nbformat_minor": 4
}
