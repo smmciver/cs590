{
 "cells": [
  {
   "cell_type": "code",
   "execution_count": null,
   "metadata": {},
   "outputs": [],
   "source": []
  },
  {
   "cell_type": "code",
   "execution_count": 1,
   "metadata": {},
   "outputs": [],
   "source": [
    "#Recreate the following dataframe by using vectors and the data.frame function\n",
    "\n",
    "rowname<-c('N12006','N13003','N13042','N14002','N16021')\n",
    "OL_Ratio<-c(76.2,82.1,78.9,74.3,77.7)\n",
    "Leaf_spot<-c(5.5,7.2,6.5,4.2,3.1)\n",
    "Drought<-c(TRUE,FALSE,TRUE,FALSE,FALSE)\n"
   ]
  },
  {
   "cell_type": "code",
   "execution_count": 2,
   "metadata": {},
   "outputs": [],
   "source": [
    "dfhw<-data.frame(row.names=rowname,OL_Ratio,Leaf_spot,Drought)"
   ]
  },
  {
   "cell_type": "code",
   "execution_count": 3,
   "metadata": {},
   "outputs": [
    {
     "data": {
      "text/html": [
       "<table>\n",
       "<thead><tr><th></th><th scope=col>OL_Ratio</th><th scope=col>Leaf_spot</th><th scope=col>Drought</th></tr></thead>\n",
       "<tbody>\n",
       "\t<tr><th scope=row>N12006</th><td>76.2 </td><td>5.5  </td><td> TRUE</td></tr>\n",
       "\t<tr><th scope=row>N13003</th><td>82.1 </td><td>7.2  </td><td>FALSE</td></tr>\n",
       "\t<tr><th scope=row>N13042</th><td>78.9 </td><td>6.5  </td><td> TRUE</td></tr>\n",
       "\t<tr><th scope=row>N14002</th><td>74.3 </td><td>4.2  </td><td>FALSE</td></tr>\n",
       "\t<tr><th scope=row>N16021</th><td>77.7 </td><td>3.1  </td><td>FALSE</td></tr>\n",
       "</tbody>\n",
       "</table>\n"
      ],
      "text/latex": [
       "\\begin{tabular}{r|lll}\n",
       "  & OL\\_Ratio & Leaf\\_spot & Drought\\\\\n",
       "\\hline\n",
       "\tN12006 & 76.2  & 5.5   &  TRUE\\\\\n",
       "\tN13003 & 82.1  & 7.2   & FALSE\\\\\n",
       "\tN13042 & 78.9  & 6.5   &  TRUE\\\\\n",
       "\tN14002 & 74.3  & 4.2   & FALSE\\\\\n",
       "\tN16021 & 77.7  & 3.1   & FALSE\\\\\n",
       "\\end{tabular}\n"
      ],
      "text/markdown": [
       "\n",
       "| <!--/--> | OL_Ratio | Leaf_spot | Drought |\n",
       "|---|---|---|---|\n",
       "| N12006 | 76.2  | 5.5   |  TRUE |\n",
       "| N13003 | 82.1  | 7.2   | FALSE |\n",
       "| N13042 | 78.9  | 6.5   |  TRUE |\n",
       "| N14002 | 74.3  | 4.2   | FALSE |\n",
       "| N16021 | 77.7  | 3.1   | FALSE |\n",
       "\n"
      ],
      "text/plain": [
       "       OL_Ratio Leaf_spot Drought\n",
       "N12006 76.2     5.5        TRUE  \n",
       "N13003 82.1     7.2       FALSE  \n",
       "N13042 78.9     6.5        TRUE  \n",
       "N14002 74.3     4.2       FALSE  \n",
       "N16021 77.7     3.1       FALSE  "
      ]
     },
     "metadata": {},
     "output_type": "display_data"
    }
   ],
   "source": [
    "dfhw"
   ]
  },
  {
   "cell_type": "code",
   "execution_count": 4,
   "metadata": {},
   "outputs": [
    {
     "data": {
      "text/html": [
       "<table>\n",
       "<thead><tr><th></th><th scope=col>OL_Ratio</th><th scope=col>Leaf_spot</th><th scope=col>Drought</th></tr></thead>\n",
       "<tbody>\n",
       "\t<tr><th scope=row>N12006</th><td>76.2</td><td>5.5 </td><td>TRUE</td></tr>\n",
       "\t<tr><th scope=row>N13042</th><td>78.9</td><td>6.5 </td><td>TRUE</td></tr>\n",
       "</tbody>\n",
       "</table>\n"
      ],
      "text/latex": [
       "\\begin{tabular}{r|lll}\n",
       "  & OL\\_Ratio & Leaf\\_spot & Drought\\\\\n",
       "\\hline\n",
       "\tN12006 & 76.2 & 5.5  & TRUE\\\\\n",
       "\tN13042 & 78.9 & 6.5  & TRUE\\\\\n",
       "\\end{tabular}\n"
      ],
      "text/markdown": [
       "\n",
       "| <!--/--> | OL_Ratio | Leaf_spot | Drought |\n",
       "|---|---|---|---|\n",
       "| N12006 | 76.2 | 5.5  | TRUE |\n",
       "| N13042 | 78.9 | 6.5  | TRUE |\n",
       "\n"
      ],
      "text/plain": [
       "       OL_Ratio Leaf_spot Drought\n",
       "N12006 76.2     5.5       TRUE   \n",
       "N13042 78.9     6.5       TRUE   "
      ]
     },
     "metadata": {},
     "output_type": "display_data"
    }
   ],
   "source": [
    "#Which lines are considered drought tolerant?\n",
    "\n",
    "subset(dfhw,subset= Drought==TRUE)\n",
    "\n",
    "#or you can use the following: df[df['Drought']==TRUE,]"
   ]
  },
  {
   "cell_type": "code",
   "execution_count": 5,
   "metadata": {},
   "outputs": [
    {
     "data": {
      "text/html": [
       "<table>\n",
       "<thead><tr><th></th><th scope=col>OL_Ratio</th><th scope=col>Leaf_spot</th><th scope=col>Drought</th></tr></thead>\n",
       "<tbody>\n",
       "\t<tr><th scope=row>N12006</th><td>76.2</td><td>5.5 </td><td>TRUE</td></tr>\n",
       "\t<tr><th scope=row>N13042</th><td>78.9</td><td>6.5 </td><td>TRUE</td></tr>\n",
       "</tbody>\n",
       "</table>\n"
      ],
      "text/latex": [
       "\\begin{tabular}{r|lll}\n",
       "  & OL\\_Ratio & Leaf\\_spot & Drought\\\\\n",
       "\\hline\n",
       "\tN12006 & 76.2 & 5.5  & TRUE\\\\\n",
       "\tN13042 & 78.9 & 6.5  & TRUE\\\\\n",
       "\\end{tabular}\n"
      ],
      "text/markdown": [
       "\n",
       "| <!--/--> | OL_Ratio | Leaf_spot | Drought |\n",
       "|---|---|---|---|\n",
       "| N12006 | 76.2 | 5.5  | TRUE |\n",
       "| N13042 | 78.9 | 6.5  | TRUE |\n",
       "\n"
      ],
      "text/plain": [
       "       OL_Ratio Leaf_spot Drought\n",
       "N12006 76.2     5.5       TRUE   \n",
       "N13042 78.9     6.5       TRUE   "
      ]
     },
     "metadata": {},
     "output_type": "display_data"
    }
   ],
   "source": [
    "dfhw[dfhw['Drought'] == TRUE,]"
   ]
  },
  {
   "cell_type": "code",
   "execution_count": 6,
   "metadata": {},
   "outputs": [],
   "source": [
    "#Input the peanut_lines (CSV) and peanut_disease (Tab) datafile\n",
    "\n",
    "library(\"data.table\")\n",
    "peanut_lines<-fread('peanut_lines.csv')\n",
    "peanut_disease<-fread('peanut_disease.txt')\n",
    "\n",
    "#or read.table and establish delimter\n",
    "#peanut_lines<-read.csv('peanut_lines.csv')\n",
    "#peanut_disease<-read.table('peanut_disease.txt', sep='\\t', header=TRUE)"
   ]
  },
  {
   "cell_type": "code",
   "execution_count": 7,
   "metadata": {},
   "outputs": [
    {
     "data": {
      "text/html": [
       "<table>\n",
       "<thead><tr><th scope=col>Year</th><th scope=col>Location</th><th scope=col>Name</th><th scope=col>Label</th><th scope=col>NC_Accession</th><th scope=col>Rating</th><th scope=col>Disease</th></tr></thead>\n",
       "<tbody>\n",
       "\t<tr><td>2010                               </td><td>LEW                                </td><td>ATP-L                              </td><td>Advanced Testing Program - Leafspot</td><td>Bailey                             </td><td>LS                                 </td><td>2.50                               </td></tr>\n",
       "\t<tr><td>2010                               </td><td>LEW                                </td><td>ATP-L                              </td><td>Advanced Testing Program - Leafspot</td><td>Bailey                             </td><td>LS                                 </td><td>2.55                               </td></tr>\n",
       "\t<tr><td>2011                               </td><td>LEW                                </td><td>ATP-L                              </td><td>Advanced Testing Program - Leafspot</td><td>Bailey                             </td><td>LS                                 </td><td>7.17                               </td></tr>\n",
       "\t<tr><td>2011                               </td><td>LEW                                </td><td>ATP-L                              </td><td>Advanced Testing Program - Leafspot</td><td>Bailey                             </td><td>LS                                 </td><td>7.19                               </td></tr>\n",
       "\t<tr><td>2012                               </td><td>LEW                                </td><td>ATP-L                              </td><td>Advanced Testing Program - Leafspot</td><td>Bailey                             </td><td>LS                                 </td><td>2.00                               </td></tr>\n",
       "\t<tr><td>2012                               </td><td>LEW                                </td><td>ATP-L                              </td><td>Advanced Testing Program - Leafspot</td><td>Bailey                             </td><td>LS                                 </td><td>2.00                               </td></tr>\n",
       "</tbody>\n",
       "</table>\n"
      ],
      "text/latex": [
       "\\begin{tabular}{r|lllllll}\n",
       " Year & Location & Name & Label & NC\\_Accession & Rating & Disease\\\\\n",
       "\\hline\n",
       "\t 2010                                & LEW                                 & ATP-L                               & Advanced Testing Program - Leafspot & Bailey                              & LS                                  & 2.50                               \\\\\n",
       "\t 2010                                & LEW                                 & ATP-L                               & Advanced Testing Program - Leafspot & Bailey                              & LS                                  & 2.55                               \\\\\n",
       "\t 2011                                & LEW                                 & ATP-L                               & Advanced Testing Program - Leafspot & Bailey                              & LS                                  & 7.17                               \\\\\n",
       "\t 2011                                & LEW                                 & ATP-L                               & Advanced Testing Program - Leafspot & Bailey                              & LS                                  & 7.19                               \\\\\n",
       "\t 2012                                & LEW                                 & ATP-L                               & Advanced Testing Program - Leafspot & Bailey                              & LS                                  & 2.00                               \\\\\n",
       "\t 2012                                & LEW                                 & ATP-L                               & Advanced Testing Program - Leafspot & Bailey                              & LS                                  & 2.00                               \\\\\n",
       "\\end{tabular}\n"
      ],
      "text/markdown": [
       "\n",
       "| Year | Location | Name | Label | NC_Accession | Rating | Disease |\n",
       "|---|---|---|---|---|---|---|\n",
       "| 2010                                | LEW                                 | ATP-L                               | Advanced Testing Program - Leafspot | Bailey                              | LS                                  | 2.50                                |\n",
       "| 2010                                | LEW                                 | ATP-L                               | Advanced Testing Program - Leafspot | Bailey                              | LS                                  | 2.55                                |\n",
       "| 2011                                | LEW                                 | ATP-L                               | Advanced Testing Program - Leafspot | Bailey                              | LS                                  | 7.17                                |\n",
       "| 2011                                | LEW                                 | ATP-L                               | Advanced Testing Program - Leafspot | Bailey                              | LS                                  | 7.19                                |\n",
       "| 2012                                | LEW                                 | ATP-L                               | Advanced Testing Program - Leafspot | Bailey                              | LS                                  | 2.00                                |\n",
       "| 2012                                | LEW                                 | ATP-L                               | Advanced Testing Program - Leafspot | Bailey                              | LS                                  | 2.00                                |\n",
       "\n"
      ],
      "text/plain": [
       "  Year Location Name  Label                               NC_Accession Rating\n",
       "1 2010 LEW      ATP-L Advanced Testing Program - Leafspot Bailey       LS    \n",
       "2 2010 LEW      ATP-L Advanced Testing Program - Leafspot Bailey       LS    \n",
       "3 2011 LEW      ATP-L Advanced Testing Program - Leafspot Bailey       LS    \n",
       "4 2011 LEW      ATP-L Advanced Testing Program - Leafspot Bailey       LS    \n",
       "5 2012 LEW      ATP-L Advanced Testing Program - Leafspot Bailey       LS    \n",
       "6 2012 LEW      ATP-L Advanced Testing Program - Leafspot Bailey       LS    \n",
       "  Disease\n",
       "1 2.50   \n",
       "2 2.55   \n",
       "3 7.17   \n",
       "4 7.19   \n",
       "5 2.00   \n",
       "6 2.00   "
      ]
     },
     "metadata": {},
     "output_type": "display_data"
    }
   ],
   "source": [
    "head(peanut_disease)"
   ]
  },
  {
   "cell_type": "code",
   "execution_count": 8,
   "metadata": {},
   "outputs": [
    {
     "data": {
      "text/html": [
       "<table>\n",
       "<thead><tr><th scope=col>NC_Accession</th><th scope=col>Identity or Parentage</th><th scope=col>Pedigree</th><th scope=col>FAG</th></tr></thead>\n",
       "<tbody>\n",
       "\t<tr><td>ACI WT09-0761</td><td>ACI WT09-0761</td><td>             </td><td>Check        </td></tr>\n",
       "\t<tr><td>ACI WT11-0351</td><td>ACI WT11-0351</td><td>             </td><td>ol ol        </td></tr>\n",
       "\t<tr><td>ACI WT12-0226</td><td>ACI WT12-0226</td><td>             </td><td>ol ol        </td></tr>\n",
       "\t<tr><td>ACI WT12-0419</td><td>ACI WT12-0419</td><td>             </td><td>Check        </td></tr>\n",
       "\t<tr><td>ACI WT12-0420</td><td>ACI WT12-0420</td><td>             </td><td>ol ol        </td></tr>\n",
       "\t<tr><td>ACI WT12-0433</td><td>ACI WT12-0433</td><td>             </td><td>Check        </td></tr>\n",
       "</tbody>\n",
       "</table>\n"
      ],
      "text/latex": [
       "\\begin{tabular}{r|llll}\n",
       " NC\\_Accession & Identity or Parentage & Pedigree & FAG\\\\\n",
       "\\hline\n",
       "\t ACI WT09-0761 & ACI WT09-0761 &               & Check        \\\\\n",
       "\t ACI WT11-0351 & ACI WT11-0351 &               & ol ol        \\\\\n",
       "\t ACI WT12-0226 & ACI WT12-0226 &               & ol ol        \\\\\n",
       "\t ACI WT12-0419 & ACI WT12-0419 &               & Check        \\\\\n",
       "\t ACI WT12-0420 & ACI WT12-0420 &               & ol ol        \\\\\n",
       "\t ACI WT12-0433 & ACI WT12-0433 &               & Check        \\\\\n",
       "\\end{tabular}\n"
      ],
      "text/markdown": [
       "\n",
       "| NC_Accession | Identity or Parentage | Pedigree | FAG |\n",
       "|---|---|---|---|\n",
       "| ACI WT09-0761 | ACI WT09-0761 |               | Check         |\n",
       "| ACI WT11-0351 | ACI WT11-0351 |               | ol ol         |\n",
       "| ACI WT12-0226 | ACI WT12-0226 |               | ol ol         |\n",
       "| ACI WT12-0419 | ACI WT12-0419 |               | Check         |\n",
       "| ACI WT12-0420 | ACI WT12-0420 |               | ol ol         |\n",
       "| ACI WT12-0433 | ACI WT12-0433 |               | Check         |\n",
       "\n"
      ],
      "text/plain": [
       "  NC_Accession  Identity or Parentage Pedigree FAG  \n",
       "1 ACI WT09-0761 ACI WT09-0761                  Check\n",
       "2 ACI WT11-0351 ACI WT11-0351                  ol ol\n",
       "3 ACI WT12-0226 ACI WT12-0226                  ol ol\n",
       "4 ACI WT12-0419 ACI WT12-0419                  Check\n",
       "5 ACI WT12-0420 ACI WT12-0420                  ol ol\n",
       "6 ACI WT12-0433 ACI WT12-0433                  Check"
      ]
     },
     "metadata": {},
     "output_type": "display_data"
    }
   ],
   "source": [
    "head(peanut_lines)"
   ]
  },
  {
   "cell_type": "code",
   "execution_count": 9,
   "metadata": {},
   "outputs": [
    {
     "data": {
      "text/html": [
       "<ol class=list-inline>\n",
       "\t<li>'NC_Accession'</li>\n",
       "\t<li>'Identity or Parentage'</li>\n",
       "\t<li>'Pedigree'</li>\n",
       "\t<li>'FAG'</li>\n",
       "</ol>\n"
      ],
      "text/latex": [
       "\\begin{enumerate*}\n",
       "\\item 'NC\\_Accession'\n",
       "\\item 'Identity or Parentage'\n",
       "\\item 'Pedigree'\n",
       "\\item 'FAG'\n",
       "\\end{enumerate*}\n"
      ],
      "text/markdown": [
       "1. 'NC_Accession'\n",
       "2. 'Identity or Parentage'\n",
       "3. 'Pedigree'\n",
       "4. 'FAG'\n",
       "\n",
       "\n"
      ],
      "text/plain": [
       "[1] \"NC_Accession\"          \"Identity or Parentage\" \"Pedigree\"             \n",
       "[4] \"FAG\"                  "
      ]
     },
     "metadata": {},
     "output_type": "display_data"
    },
    {
     "data": {
      "text/html": [
       "<ol class=list-inline>\n",
       "\t<li>'Year'</li>\n",
       "\t<li>'Location'</li>\n",
       "\t<li>'Name'</li>\n",
       "\t<li>'Label'</li>\n",
       "\t<li>'NC_Accession'</li>\n",
       "\t<li>'Rating'</li>\n",
       "\t<li>'Disease'</li>\n",
       "</ol>\n"
      ],
      "text/latex": [
       "\\begin{enumerate*}\n",
       "\\item 'Year'\n",
       "\\item 'Location'\n",
       "\\item 'Name'\n",
       "\\item 'Label'\n",
       "\\item 'NC\\_Accession'\n",
       "\\item 'Rating'\n",
       "\\item 'Disease'\n",
       "\\end{enumerate*}\n"
      ],
      "text/markdown": [
       "1. 'Year'\n",
       "2. 'Location'\n",
       "3. 'Name'\n",
       "4. 'Label'\n",
       "5. 'NC_Accession'\n",
       "6. 'Rating'\n",
       "7. 'Disease'\n",
       "\n",
       "\n"
      ],
      "text/plain": [
       "[1] \"Year\"         \"Location\"     \"Name\"         \"Label\"        \"NC_Accession\"\n",
       "[6] \"Rating\"       \"Disease\"     "
      ]
     },
     "metadata": {},
     "output_type": "display_data"
    }
   ],
   "source": [
    "#Check the column names of peanut_lines and peanut_disease\n",
    "colnames(peanut_lines)\n",
    "colnames(peanut_disease)"
   ]
  },
  {
   "cell_type": "code",
   "execution_count": 10,
   "metadata": {},
   "outputs": [],
   "source": [
    "#Merge peanut_lines and peanut_disease keeping the entirety of the peanut_disease information intact - \n",
    "#Name the data frame disease_data\n",
    "\n",
    "\n",
    "disease_data<-merge(peanut_lines, peanut_disease, by.x='NC_Accession', by.y='NC_Accession', all.y=TRUE)\n",
    "#above is fine, also add all.y=TRUE"
   ]
  },
  {
   "cell_type": "code",
   "execution_count": 11,
   "metadata": {},
   "outputs": [
    {
     "data": {
      "text/html": [
       "<table>\n",
       "<thead><tr><th scope=col>NC_Accession</th><th scope=col>Identity or Parentage</th><th scope=col>Pedigree</th><th scope=col>FAG</th><th scope=col>Year</th><th scope=col>Location</th><th scope=col>Name</th><th scope=col>Label</th><th scope=col>Rating</th><th scope=col>Disease</th></tr></thead>\n",
       "<tbody>\n",
       "\t<tr><td>Bailey                             </td><td>NC 12C*2 / N96076L                 </td><td>BC1F1-06-01-S-03-S-05: F09         </td><td>+ +                                </td><td>2010                               </td><td>LEW                                </td><td>ATP-L                              </td><td>Advanced Testing Program - Leafspot</td><td>LS                                 </td><td>2.50                               </td></tr>\n",
       "\t<tr><td>Bailey                             </td><td>NC 12C*2 / N96076L                 </td><td>BC1F1-06-01-S-03-S-05: F09         </td><td>+ +                                </td><td>2010                               </td><td>LEW                                </td><td>ATP-L                              </td><td>Advanced Testing Program - Leafspot</td><td>LS                                 </td><td>2.55                               </td></tr>\n",
       "\t<tr><td>Bailey                             </td><td>NC 12C*2 / N96076L                 </td><td>BC1F1-06-01-S-03-S-05: F09         </td><td>+ +                                </td><td>2011                               </td><td>LEW                                </td><td>ATP-L                              </td><td>Advanced Testing Program - Leafspot</td><td>LS                                 </td><td>7.17                               </td></tr>\n",
       "\t<tr><td>Bailey                             </td><td>NC 12C*2 / N96076L                 </td><td>BC1F1-06-01-S-03-S-05: F09         </td><td>+ +                                </td><td>2011                               </td><td>LEW                                </td><td>ATP-L                              </td><td>Advanced Testing Program - Leafspot</td><td>LS                                 </td><td>7.19                               </td></tr>\n",
       "\t<tr><td>Bailey                             </td><td>NC 12C*2 / N96076L                 </td><td>BC1F1-06-01-S-03-S-05: F09         </td><td>+ +                                </td><td>2012                               </td><td>LEW                                </td><td>ATP-L                              </td><td>Advanced Testing Program - Leafspot</td><td>LS                                 </td><td>2.00                               </td></tr>\n",
       "\t<tr><td>Bailey                             </td><td>NC 12C*2 / N96076L                 </td><td>BC1F1-06-01-S-03-S-05: F09         </td><td>+ +                                </td><td>2012                               </td><td>LEW                                </td><td>ATP-L                              </td><td>Advanced Testing Program - Leafspot</td><td>LS                                 </td><td>2.00                               </td></tr>\n",
       "</tbody>\n",
       "</table>\n"
      ],
      "text/latex": [
       "\\begin{tabular}{r|llllllllll}\n",
       " NC\\_Accession & Identity or Parentage & Pedigree & FAG & Year & Location & Name & Label & Rating & Disease\\\\\n",
       "\\hline\n",
       "\t Bailey                              & NC 12C*2 / N96076L                  & BC1F1-06-01-S-03-S-05: F09          & + +                                 & 2010                                & LEW                                 & ATP-L                               & Advanced Testing Program - Leafspot & LS                                  & 2.50                               \\\\\n",
       "\t Bailey                              & NC 12C*2 / N96076L                  & BC1F1-06-01-S-03-S-05: F09          & + +                                 & 2010                                & LEW                                 & ATP-L                               & Advanced Testing Program - Leafspot & LS                                  & 2.55                               \\\\\n",
       "\t Bailey                              & NC 12C*2 / N96076L                  & BC1F1-06-01-S-03-S-05: F09          & + +                                 & 2011                                & LEW                                 & ATP-L                               & Advanced Testing Program - Leafspot & LS                                  & 7.17                               \\\\\n",
       "\t Bailey                              & NC 12C*2 / N96076L                  & BC1F1-06-01-S-03-S-05: F09          & + +                                 & 2011                                & LEW                                 & ATP-L                               & Advanced Testing Program - Leafspot & LS                                  & 7.19                               \\\\\n",
       "\t Bailey                              & NC 12C*2 / N96076L                  & BC1F1-06-01-S-03-S-05: F09          & + +                                 & 2012                                & LEW                                 & ATP-L                               & Advanced Testing Program - Leafspot & LS                                  & 2.00                               \\\\\n",
       "\t Bailey                              & NC 12C*2 / N96076L                  & BC1F1-06-01-S-03-S-05: F09          & + +                                 & 2012                                & LEW                                 & ATP-L                               & Advanced Testing Program - Leafspot & LS                                  & 2.00                               \\\\\n",
       "\\end{tabular}\n"
      ],
      "text/markdown": [
       "\n",
       "| NC_Accession | Identity or Parentage | Pedigree | FAG | Year | Location | Name | Label | Rating | Disease |\n",
       "|---|---|---|---|---|---|---|---|---|---|\n",
       "| Bailey                              | NC 12C*2 / N96076L                  | BC1F1-06-01-S-03-S-05: F09          | + +                                 | 2010                                | LEW                                 | ATP-L                               | Advanced Testing Program - Leafspot | LS                                  | 2.50                                |\n",
       "| Bailey                              | NC 12C*2 / N96076L                  | BC1F1-06-01-S-03-S-05: F09          | + +                                 | 2010                                | LEW                                 | ATP-L                               | Advanced Testing Program - Leafspot | LS                                  | 2.55                                |\n",
       "| Bailey                              | NC 12C*2 / N96076L                  | BC1F1-06-01-S-03-S-05: F09          | + +                                 | 2011                                | LEW                                 | ATP-L                               | Advanced Testing Program - Leafspot | LS                                  | 7.17                                |\n",
       "| Bailey                              | NC 12C*2 / N96076L                  | BC1F1-06-01-S-03-S-05: F09          | + +                                 | 2011                                | LEW                                 | ATP-L                               | Advanced Testing Program - Leafspot | LS                                  | 7.19                                |\n",
       "| Bailey                              | NC 12C*2 / N96076L                  | BC1F1-06-01-S-03-S-05: F09          | + +                                 | 2012                                | LEW                                 | ATP-L                               | Advanced Testing Program - Leafspot | LS                                  | 2.00                                |\n",
       "| Bailey                              | NC 12C*2 / N96076L                  | BC1F1-06-01-S-03-S-05: F09          | + +                                 | 2012                                | LEW                                 | ATP-L                               | Advanced Testing Program - Leafspot | LS                                  | 2.00                                |\n",
       "\n"
      ],
      "text/plain": [
       "  NC_Accession Identity or Parentage Pedigree                   FAG Year\n",
       "1 Bailey       NC 12C*2 / N96076L    BC1F1-06-01-S-03-S-05: F09 + + 2010\n",
       "2 Bailey       NC 12C*2 / N96076L    BC1F1-06-01-S-03-S-05: F09 + + 2010\n",
       "3 Bailey       NC 12C*2 / N96076L    BC1F1-06-01-S-03-S-05: F09 + + 2011\n",
       "4 Bailey       NC 12C*2 / N96076L    BC1F1-06-01-S-03-S-05: F09 + + 2011\n",
       "5 Bailey       NC 12C*2 / N96076L    BC1F1-06-01-S-03-S-05: F09 + + 2012\n",
       "6 Bailey       NC 12C*2 / N96076L    BC1F1-06-01-S-03-S-05: F09 + + 2012\n",
       "  Location Name  Label                               Rating Disease\n",
       "1 LEW      ATP-L Advanced Testing Program - Leafspot LS     2.50   \n",
       "2 LEW      ATP-L Advanced Testing Program - Leafspot LS     2.55   \n",
       "3 LEW      ATP-L Advanced Testing Program - Leafspot LS     7.17   \n",
       "4 LEW      ATP-L Advanced Testing Program - Leafspot LS     7.19   \n",
       "5 LEW      ATP-L Advanced Testing Program - Leafspot LS     2.00   \n",
       "6 LEW      ATP-L Advanced Testing Program - Leafspot LS     2.00   "
      ]
     },
     "metadata": {},
     "output_type": "display_data"
    }
   ],
   "source": [
    "head(disease_data)\n"
   ]
  },
  {
   "cell_type": "code",
   "execution_count": 12,
   "metadata": {},
   "outputs": [],
   "source": [
    "#Subset the disease data to list only ratings for leaf spot ('LS') in a dataframe called leaf.spot\n",
    "\n",
    "leaf.spot<-subset(disease_data, Rating=='LS')\n",
    "#or disease_data[disease_data$Rating=='LS']\n"
   ]
  },
  {
   "cell_type": "code",
   "execution_count": 13,
   "metadata": {},
   "outputs": [
    {
     "data": {
      "text/html": [
       "<table>\n",
       "<thead><tr><th scope=col>NC_Accession</th><th scope=col>Identity or Parentage</th><th scope=col>Pedigree</th><th scope=col>FAG</th><th scope=col>Year</th><th scope=col>Location</th><th scope=col>Name</th><th scope=col>Label</th><th scope=col>Rating</th><th scope=col>Disease</th></tr></thead>\n",
       "<tbody>\n",
       "\t<tr><td>Bailey                             </td><td>NC 12C*2 / N96076L                 </td><td>BC1F1-06-01-S-03-S-05: F09         </td><td>+ +                                </td><td>2010                               </td><td>LEW                                </td><td>ATP-L                              </td><td>Advanced Testing Program - Leafspot</td><td>LS                                 </td><td>2.50                               </td></tr>\n",
       "\t<tr><td>Bailey                             </td><td>NC 12C*2 / N96076L                 </td><td>BC1F1-06-01-S-03-S-05: F09         </td><td>+ +                                </td><td>2010                               </td><td>LEW                                </td><td>ATP-L                              </td><td>Advanced Testing Program - Leafspot</td><td>LS                                 </td><td>2.55                               </td></tr>\n",
       "\t<tr><td>Bailey                             </td><td>NC 12C*2 / N96076L                 </td><td>BC1F1-06-01-S-03-S-05: F09         </td><td>+ +                                </td><td>2011                               </td><td>LEW                                </td><td>ATP-L                              </td><td>Advanced Testing Program - Leafspot</td><td>LS                                 </td><td>7.17                               </td></tr>\n",
       "\t<tr><td>Bailey                             </td><td>NC 12C*2 / N96076L                 </td><td>BC1F1-06-01-S-03-S-05: F09         </td><td>+ +                                </td><td>2011                               </td><td>LEW                                </td><td>ATP-L                              </td><td>Advanced Testing Program - Leafspot</td><td>LS                                 </td><td>7.19                               </td></tr>\n",
       "\t<tr><td>Bailey                             </td><td>NC 12C*2 / N96076L                 </td><td>BC1F1-06-01-S-03-S-05: F09         </td><td>+ +                                </td><td>2012                               </td><td>LEW                                </td><td>ATP-L                              </td><td>Advanced Testing Program - Leafspot</td><td>LS                                 </td><td>2.00                               </td></tr>\n",
       "\t<tr><td>Bailey                             </td><td>NC 12C*2 / N96076L                 </td><td>BC1F1-06-01-S-03-S-05: F09         </td><td>+ +                                </td><td>2012                               </td><td>LEW                                </td><td>ATP-L                              </td><td>Advanced Testing Program - Leafspot</td><td>LS                                 </td><td>2.00                               </td></tr>\n",
       "</tbody>\n",
       "</table>\n"
      ],
      "text/latex": [
       "\\begin{tabular}{r|llllllllll}\n",
       " NC\\_Accession & Identity or Parentage & Pedigree & FAG & Year & Location & Name & Label & Rating & Disease\\\\\n",
       "\\hline\n",
       "\t Bailey                              & NC 12C*2 / N96076L                  & BC1F1-06-01-S-03-S-05: F09          & + +                                 & 2010                                & LEW                                 & ATP-L                               & Advanced Testing Program - Leafspot & LS                                  & 2.50                               \\\\\n",
       "\t Bailey                              & NC 12C*2 / N96076L                  & BC1F1-06-01-S-03-S-05: F09          & + +                                 & 2010                                & LEW                                 & ATP-L                               & Advanced Testing Program - Leafspot & LS                                  & 2.55                               \\\\\n",
       "\t Bailey                              & NC 12C*2 / N96076L                  & BC1F1-06-01-S-03-S-05: F09          & + +                                 & 2011                                & LEW                                 & ATP-L                               & Advanced Testing Program - Leafspot & LS                                  & 7.17                               \\\\\n",
       "\t Bailey                              & NC 12C*2 / N96076L                  & BC1F1-06-01-S-03-S-05: F09          & + +                                 & 2011                                & LEW                                 & ATP-L                               & Advanced Testing Program - Leafspot & LS                                  & 7.19                               \\\\\n",
       "\t Bailey                              & NC 12C*2 / N96076L                  & BC1F1-06-01-S-03-S-05: F09          & + +                                 & 2012                                & LEW                                 & ATP-L                               & Advanced Testing Program - Leafspot & LS                                  & 2.00                               \\\\\n",
       "\t Bailey                              & NC 12C*2 / N96076L                  & BC1F1-06-01-S-03-S-05: F09          & + +                                 & 2012                                & LEW                                 & ATP-L                               & Advanced Testing Program - Leafspot & LS                                  & 2.00                               \\\\\n",
       "\\end{tabular}\n"
      ],
      "text/markdown": [
       "\n",
       "| NC_Accession | Identity or Parentage | Pedigree | FAG | Year | Location | Name | Label | Rating | Disease |\n",
       "|---|---|---|---|---|---|---|---|---|---|\n",
       "| Bailey                              | NC 12C*2 / N96076L                  | BC1F1-06-01-S-03-S-05: F09          | + +                                 | 2010                                | LEW                                 | ATP-L                               | Advanced Testing Program - Leafspot | LS                                  | 2.50                                |\n",
       "| Bailey                              | NC 12C*2 / N96076L                  | BC1F1-06-01-S-03-S-05: F09          | + +                                 | 2010                                | LEW                                 | ATP-L                               | Advanced Testing Program - Leafspot | LS                                  | 2.55                                |\n",
       "| Bailey                              | NC 12C*2 / N96076L                  | BC1F1-06-01-S-03-S-05: F09          | + +                                 | 2011                                | LEW                                 | ATP-L                               | Advanced Testing Program - Leafspot | LS                                  | 7.17                                |\n",
       "| Bailey                              | NC 12C*2 / N96076L                  | BC1F1-06-01-S-03-S-05: F09          | + +                                 | 2011                                | LEW                                 | ATP-L                               | Advanced Testing Program - Leafspot | LS                                  | 7.19                                |\n",
       "| Bailey                              | NC 12C*2 / N96076L                  | BC1F1-06-01-S-03-S-05: F09          | + +                                 | 2012                                | LEW                                 | ATP-L                               | Advanced Testing Program - Leafspot | LS                                  | 2.00                                |\n",
       "| Bailey                              | NC 12C*2 / N96076L                  | BC1F1-06-01-S-03-S-05: F09          | + +                                 | 2012                                | LEW                                 | ATP-L                               | Advanced Testing Program - Leafspot | LS                                  | 2.00                                |\n",
       "\n"
      ],
      "text/plain": [
       "  NC_Accession Identity or Parentage Pedigree                   FAG Year\n",
       "1 Bailey       NC 12C*2 / N96076L    BC1F1-06-01-S-03-S-05: F09 + + 2010\n",
       "2 Bailey       NC 12C*2 / N96076L    BC1F1-06-01-S-03-S-05: F09 + + 2010\n",
       "3 Bailey       NC 12C*2 / N96076L    BC1F1-06-01-S-03-S-05: F09 + + 2011\n",
       "4 Bailey       NC 12C*2 / N96076L    BC1F1-06-01-S-03-S-05: F09 + + 2011\n",
       "5 Bailey       NC 12C*2 / N96076L    BC1F1-06-01-S-03-S-05: F09 + + 2012\n",
       "6 Bailey       NC 12C*2 / N96076L    BC1F1-06-01-S-03-S-05: F09 + + 2012\n",
       "  Location Name  Label                               Rating Disease\n",
       "1 LEW      ATP-L Advanced Testing Program - Leafspot LS     2.50   \n",
       "2 LEW      ATP-L Advanced Testing Program - Leafspot LS     2.55   \n",
       "3 LEW      ATP-L Advanced Testing Program - Leafspot LS     7.17   \n",
       "4 LEW      ATP-L Advanced Testing Program - Leafspot LS     7.19   \n",
       "5 LEW      ATP-L Advanced Testing Program - Leafspot LS     2.00   \n",
       "6 LEW      ATP-L Advanced Testing Program - Leafspot LS     2.00   "
      ]
     },
     "metadata": {},
     "output_type": "display_data"
    }
   ],
   "source": [
    "head(leaf.spot)"
   ]
  },
  {
   "cell_type": "code",
   "execution_count": 14,
   "metadata": {},
   "outputs": [
    {
     "data": {
      "text/html": [
       "<table>\n",
       "<thead><tr><th scope=col>NC_Accession</th><th scope=col>Identity or Parentage</th><th scope=col>Pedigree</th><th scope=col>FAG</th><th scope=col>Year</th><th scope=col>Location</th><th scope=col>Name</th><th scope=col>Label</th><th scope=col>Rating</th><th scope=col>Disease</th></tr></thead>\n",
       "<tbody>\n",
       "\t<tr><td>Bailey                             </td><td>NC 12C*2 / N96076L                 </td><td>BC1F1-06-01-S-03-S-05: F09         </td><td>+ +                                </td><td>2010                               </td><td>LEW                                </td><td>ATP-L                              </td><td>Advanced Testing Program - Leafspot</td><td>LS                                 </td><td>2.50                               </td></tr>\n",
       "\t<tr><td>Bailey                             </td><td>NC 12C*2 / N96076L                 </td><td>BC1F1-06-01-S-03-S-05: F09         </td><td>+ +                                </td><td>2010                               </td><td>LEW                                </td><td>ATP-L                              </td><td>Advanced Testing Program - Leafspot</td><td>LS                                 </td><td>2.55                               </td></tr>\n",
       "\t<tr><td>Bailey                             </td><td>NC 12C*2 / N96076L                 </td><td>BC1F1-06-01-S-03-S-05: F09         </td><td>+ +                                </td><td>2011                               </td><td>LEW                                </td><td>ATP-L                              </td><td>Advanced Testing Program - Leafspot</td><td>LS                                 </td><td>7.17                               </td></tr>\n",
       "\t<tr><td>Bailey                             </td><td>NC 12C*2 / N96076L                 </td><td>BC1F1-06-01-S-03-S-05: F09         </td><td>+ +                                </td><td>2011                               </td><td>LEW                                </td><td>ATP-L                              </td><td>Advanced Testing Program - Leafspot</td><td>LS                                 </td><td>7.19                               </td></tr>\n",
       "\t<tr><td>Bailey                             </td><td>NC 12C*2 / N96076L                 </td><td>BC1F1-06-01-S-03-S-05: F09         </td><td>+ +                                </td><td>2012                               </td><td>LEW                                </td><td>ATP-L                              </td><td>Advanced Testing Program - Leafspot</td><td>LS                                 </td><td>2.00                               </td></tr>\n",
       "\t<tr><td>Bailey                             </td><td>NC 12C*2 / N96076L                 </td><td>BC1F1-06-01-S-03-S-05: F09         </td><td>+ +                                </td><td>2012                               </td><td>LEW                                </td><td>ATP-L                              </td><td>Advanced Testing Program - Leafspot</td><td>LS                                 </td><td>2.00                               </td></tr>\n",
       "</tbody>\n",
       "</table>\n"
      ],
      "text/latex": [
       "\\begin{tabular}{r|llllllllll}\n",
       " NC\\_Accession & Identity or Parentage & Pedigree & FAG & Year & Location & Name & Label & Rating & Disease\\\\\n",
       "\\hline\n",
       "\t Bailey                              & NC 12C*2 / N96076L                  & BC1F1-06-01-S-03-S-05: F09          & + +                                 & 2010                                & LEW                                 & ATP-L                               & Advanced Testing Program - Leafspot & LS                                  & 2.50                               \\\\\n",
       "\t Bailey                              & NC 12C*2 / N96076L                  & BC1F1-06-01-S-03-S-05: F09          & + +                                 & 2010                                & LEW                                 & ATP-L                               & Advanced Testing Program - Leafspot & LS                                  & 2.55                               \\\\\n",
       "\t Bailey                              & NC 12C*2 / N96076L                  & BC1F1-06-01-S-03-S-05: F09          & + +                                 & 2011                                & LEW                                 & ATP-L                               & Advanced Testing Program - Leafspot & LS                                  & 7.17                               \\\\\n",
       "\t Bailey                              & NC 12C*2 / N96076L                  & BC1F1-06-01-S-03-S-05: F09          & + +                                 & 2011                                & LEW                                 & ATP-L                               & Advanced Testing Program - Leafspot & LS                                  & 7.19                               \\\\\n",
       "\t Bailey                              & NC 12C*2 / N96076L                  & BC1F1-06-01-S-03-S-05: F09          & + +                                 & 2012                                & LEW                                 & ATP-L                               & Advanced Testing Program - Leafspot & LS                                  & 2.00                               \\\\\n",
       "\t Bailey                              & NC 12C*2 / N96076L                  & BC1F1-06-01-S-03-S-05: F09          & + +                                 & 2012                                & LEW                                 & ATP-L                               & Advanced Testing Program - Leafspot & LS                                  & 2.00                               \\\\\n",
       "\\end{tabular}\n"
      ],
      "text/markdown": [
       "\n",
       "| NC_Accession | Identity or Parentage | Pedigree | FAG | Year | Location | Name | Label | Rating | Disease |\n",
       "|---|---|---|---|---|---|---|---|---|---|\n",
       "| Bailey                              | NC 12C*2 / N96076L                  | BC1F1-06-01-S-03-S-05: F09          | + +                                 | 2010                                | LEW                                 | ATP-L                               | Advanced Testing Program - Leafspot | LS                                  | 2.50                                |\n",
       "| Bailey                              | NC 12C*2 / N96076L                  | BC1F1-06-01-S-03-S-05: F09          | + +                                 | 2010                                | LEW                                 | ATP-L                               | Advanced Testing Program - Leafspot | LS                                  | 2.55                                |\n",
       "| Bailey                              | NC 12C*2 / N96076L                  | BC1F1-06-01-S-03-S-05: F09          | + +                                 | 2011                                | LEW                                 | ATP-L                               | Advanced Testing Program - Leafspot | LS                                  | 7.17                                |\n",
       "| Bailey                              | NC 12C*2 / N96076L                  | BC1F1-06-01-S-03-S-05: F09          | + +                                 | 2011                                | LEW                                 | ATP-L                               | Advanced Testing Program - Leafspot | LS                                  | 7.19                                |\n",
       "| Bailey                              | NC 12C*2 / N96076L                  | BC1F1-06-01-S-03-S-05: F09          | + +                                 | 2012                                | LEW                                 | ATP-L                               | Advanced Testing Program - Leafspot | LS                                  | 2.00                                |\n",
       "| Bailey                              | NC 12C*2 / N96076L                  | BC1F1-06-01-S-03-S-05: F09          | + +                                 | 2012                                | LEW                                 | ATP-L                               | Advanced Testing Program - Leafspot | LS                                  | 2.00                                |\n",
       "\n"
      ],
      "text/plain": [
       "  NC_Accession Identity or Parentage Pedigree                   FAG Year\n",
       "1 Bailey       NC 12C*2 / N96076L    BC1F1-06-01-S-03-S-05: F09 + + 2010\n",
       "2 Bailey       NC 12C*2 / N96076L    BC1F1-06-01-S-03-S-05: F09 + + 2010\n",
       "3 Bailey       NC 12C*2 / N96076L    BC1F1-06-01-S-03-S-05: F09 + + 2011\n",
       "4 Bailey       NC 12C*2 / N96076L    BC1F1-06-01-S-03-S-05: F09 + + 2011\n",
       "5 Bailey       NC 12C*2 / N96076L    BC1F1-06-01-S-03-S-05: F09 + + 2012\n",
       "6 Bailey       NC 12C*2 / N96076L    BC1F1-06-01-S-03-S-05: F09 + + 2012\n",
       "  Location Name  Label                               Rating Disease\n",
       "1 LEW      ATP-L Advanced Testing Program - Leafspot LS     2.50   \n",
       "2 LEW      ATP-L Advanced Testing Program - Leafspot LS     2.55   \n",
       "3 LEW      ATP-L Advanced Testing Program - Leafspot LS     7.17   \n",
       "4 LEW      ATP-L Advanced Testing Program - Leafspot LS     7.19   \n",
       "5 LEW      ATP-L Advanced Testing Program - Leafspot LS     2.00   \n",
       "6 LEW      ATP-L Advanced Testing Program - Leafspot LS     2.00   "
      ]
     },
     "metadata": {},
     "output_type": "display_data"
    }
   ],
   "source": [
    "#Drop all rows that contain missing values in the column 'Disease'\n",
    "\n",
    "#disease_nona<-disease_data[!is.na(disease_data$Disease),]\n",
    "disease_nona<-subset(disease_data, !is.na(disease_data$Disease))\n",
    "head(disease_nona)"
   ]
  },
  {
   "cell_type": "code",
   "execution_count": 15,
   "metadata": {},
   "outputs": [
    {
     "data": {
      "text/html": [
       "TRUE"
      ],
      "text/latex": [
       "TRUE"
      ],
      "text/markdown": [
       "TRUE"
      ],
      "text/plain": [
       "[1] TRUE"
      ]
     },
     "metadata": {},
     "output_type": "display_data"
    },
    {
     "data": {
      "text/html": [
       "FALSE"
      ],
      "text/latex": [
       "FALSE"
      ],
      "text/markdown": [
       "FALSE"
      ],
      "text/plain": [
       "[1] FALSE"
      ]
     },
     "metadata": {},
     "output_type": "display_data"
    }
   ],
   "source": [
    "any(is.na(disease_data$Disease))\n",
    "any(is.na(disease_nona$Disease))"
   ]
  },
  {
   "cell_type": "code",
   "execution_count": 16,
   "metadata": {},
   "outputs": [],
   "source": [
    "#What was the average leaf spot rating in 2017?\n",
    "#colMeans(subset(leaf.spot, substr(Year,1,4)==2017, select=Disease), na.rm=TRUE)\n",
    "#colMeans(subset(leaf.spot, select=Disease, Year==2017), na.rm=TRUE)\n",
    "\n",
    "#mean(leaf.spot$Disease[leaf.spot$Year==2017], na.rm=TRUE)\n",
    "#mean(subset(leaf.spot, Year==2017)$Disease, na.rm=TRUE)"
   ]
  },
  {
   "cell_type": "code",
   "execution_count": 17,
   "metadata": {},
   "outputs": [],
   "source": [
    "#Subset the leaf.spot dataframe to include only the following lines\n",
    "#line_names = 'Bailey', 'Bailey II', 'Wynne', 'Sullivan', 'Emery', 'N96076'\n",
    "#fine to call the names a vector\n",
    "\n",
    "\n",
    "#leaf.spot[leaf.spot$NC_Accession %in% c('Bailey', 'Bailey II', 'Wynne', 'Sullivan', 'Emery', 'N96076')] \n",
    "#leaf.spot<-subset(leaf.spot, NC_Accession %n% line_names)\n"
   ]
  },
  {
   "cell_type": "code",
   "execution_count": 18,
   "metadata": {},
   "outputs": [],
   "source": [
    "leaf.spot_sub<-subset(leaf.spot, leaf.spot$NC_Accession %in% c('Bailey', 'Bailey II', 'Wynne', 'Sullivan', 'Emery', 'N96076'))"
   ]
  },
  {
   "cell_type": "code",
   "execution_count": 16,
   "metadata": {
    "collapsed": true,
    "jupyter": {
     "outputs_hidden": true
    }
   },
   "outputs": [
    {
     "data": {
      "text/html": [
       "<table>\n",
       "<thead><tr><th scope=col>NC_Accession</th><th scope=col>Identity or Parentage</th><th scope=col>Pedigree</th><th scope=col>FAG</th><th scope=col>Year</th><th scope=col>Location</th><th scope=col>Name</th><th scope=col>Label</th><th scope=col>Rating</th><th scope=col>Disease</th></tr></thead>\n",
       "<tbody>\n",
       "\t<tr><td>Bailey                             </td><td>NC 12C*2 / N96076L                 </td><td>BC1F1-06-01-S-03-S-05: F09         </td><td>+ +                                </td><td>2010                               </td><td>LEW                                </td><td>ATP-L                              </td><td>Advanced Testing Program - Leafspot</td><td>LS                                 </td><td>2.50                               </td></tr>\n",
       "\t<tr><td>Bailey                             </td><td>NC 12C*2 / N96076L                 </td><td>BC1F1-06-01-S-03-S-05: F09         </td><td>+ +                                </td><td>2010                               </td><td>LEW                                </td><td>ATP-L                              </td><td>Advanced Testing Program - Leafspot</td><td>LS                                 </td><td>2.55                               </td></tr>\n",
       "\t<tr><td>Bailey                             </td><td>NC 12C*2 / N96076L                 </td><td>BC1F1-06-01-S-03-S-05: F09         </td><td>+ +                                </td><td>2011                               </td><td>LEW                                </td><td>ATP-L                              </td><td>Advanced Testing Program - Leafspot</td><td>LS                                 </td><td>7.17                               </td></tr>\n",
       "\t<tr><td>Bailey                             </td><td>NC 12C*2 / N96076L                 </td><td>BC1F1-06-01-S-03-S-05: F09         </td><td>+ +                                </td><td>2011                               </td><td>LEW                                </td><td>ATP-L                              </td><td>Advanced Testing Program - Leafspot</td><td>LS                                 </td><td>7.19                               </td></tr>\n",
       "\t<tr><td>Bailey                             </td><td>NC 12C*2 / N96076L                 </td><td>BC1F1-06-01-S-03-S-05: F09         </td><td>+ +                                </td><td>2012                               </td><td>LEW                                </td><td>ATP-L                              </td><td>Advanced Testing Program - Leafspot</td><td>LS                                 </td><td>2.00                               </td></tr>\n",
       "\t<tr><td>Bailey                             </td><td>NC 12C*2 / N96076L                 </td><td>BC1F1-06-01-S-03-S-05: F09         </td><td>+ +                                </td><td>2012                               </td><td>LEW                                </td><td>ATP-L                              </td><td>Advanced Testing Program - Leafspot</td><td>LS                                 </td><td>2.00                               </td></tr>\n",
       "</tbody>\n",
       "</table>\n"
      ],
      "text/latex": [
       "\\begin{tabular}{r|llllllllll}\n",
       " NC\\_Accession & Identity or Parentage & Pedigree & FAG & Year & Location & Name & Label & Rating & Disease\\\\\n",
       "\\hline\n",
       "\t Bailey                              & NC 12C*2 / N96076L                  & BC1F1-06-01-S-03-S-05: F09          & + +                                 & 2010                                & LEW                                 & ATP-L                               & Advanced Testing Program - Leafspot & LS                                  & 2.50                               \\\\\n",
       "\t Bailey                              & NC 12C*2 / N96076L                  & BC1F1-06-01-S-03-S-05: F09          & + +                                 & 2010                                & LEW                                 & ATP-L                               & Advanced Testing Program - Leafspot & LS                                  & 2.55                               \\\\\n",
       "\t Bailey                              & NC 12C*2 / N96076L                  & BC1F1-06-01-S-03-S-05: F09          & + +                                 & 2011                                & LEW                                 & ATP-L                               & Advanced Testing Program - Leafspot & LS                                  & 7.17                               \\\\\n",
       "\t Bailey                              & NC 12C*2 / N96076L                  & BC1F1-06-01-S-03-S-05: F09          & + +                                 & 2011                                & LEW                                 & ATP-L                               & Advanced Testing Program - Leafspot & LS                                  & 7.19                               \\\\\n",
       "\t Bailey                              & NC 12C*2 / N96076L                  & BC1F1-06-01-S-03-S-05: F09          & + +                                 & 2012                                & LEW                                 & ATP-L                               & Advanced Testing Program - Leafspot & LS                                  & 2.00                               \\\\\n",
       "\t Bailey                              & NC 12C*2 / N96076L                  & BC1F1-06-01-S-03-S-05: F09          & + +                                 & 2012                                & LEW                                 & ATP-L                               & Advanced Testing Program - Leafspot & LS                                  & 2.00                               \\\\\n",
       "\\end{tabular}\n"
      ],
      "text/markdown": [
       "\n",
       "| NC_Accession | Identity or Parentage | Pedigree | FAG | Year | Location | Name | Label | Rating | Disease |\n",
       "|---|---|---|---|---|---|---|---|---|---|\n",
       "| Bailey                              | NC 12C*2 / N96076L                  | BC1F1-06-01-S-03-S-05: F09          | + +                                 | 2010                                | LEW                                 | ATP-L                               | Advanced Testing Program - Leafspot | LS                                  | 2.50                                |\n",
       "| Bailey                              | NC 12C*2 / N96076L                  | BC1F1-06-01-S-03-S-05: F09          | + +                                 | 2010                                | LEW                                 | ATP-L                               | Advanced Testing Program - Leafspot | LS                                  | 2.55                                |\n",
       "| Bailey                              | NC 12C*2 / N96076L                  | BC1F1-06-01-S-03-S-05: F09          | + +                                 | 2011                                | LEW                                 | ATP-L                               | Advanced Testing Program - Leafspot | LS                                  | 7.17                                |\n",
       "| Bailey                              | NC 12C*2 / N96076L                  | BC1F1-06-01-S-03-S-05: F09          | + +                                 | 2011                                | LEW                                 | ATP-L                               | Advanced Testing Program - Leafspot | LS                                  | 7.19                                |\n",
       "| Bailey                              | NC 12C*2 / N96076L                  | BC1F1-06-01-S-03-S-05: F09          | + +                                 | 2012                                | LEW                                 | ATP-L                               | Advanced Testing Program - Leafspot | LS                                  | 2.00                                |\n",
       "| Bailey                              | NC 12C*2 / N96076L                  | BC1F1-06-01-S-03-S-05: F09          | + +                                 | 2012                                | LEW                                 | ATP-L                               | Advanced Testing Program - Leafspot | LS                                  | 2.00                                |\n",
       "\n"
      ],
      "text/plain": [
       "  NC_Accession Identity or Parentage Pedigree                   FAG Year\n",
       "1 Bailey       NC 12C*2 / N96076L    BC1F1-06-01-S-03-S-05: F09 + + 2010\n",
       "2 Bailey       NC 12C*2 / N96076L    BC1F1-06-01-S-03-S-05: F09 + + 2010\n",
       "3 Bailey       NC 12C*2 / N96076L    BC1F1-06-01-S-03-S-05: F09 + + 2011\n",
       "4 Bailey       NC 12C*2 / N96076L    BC1F1-06-01-S-03-S-05: F09 + + 2011\n",
       "5 Bailey       NC 12C*2 / N96076L    BC1F1-06-01-S-03-S-05: F09 + + 2012\n",
       "6 Bailey       NC 12C*2 / N96076L    BC1F1-06-01-S-03-S-05: F09 + + 2012\n",
       "  Location Name  Label                               Rating Disease\n",
       "1 LEW      ATP-L Advanced Testing Program - Leafspot LS     2.50   \n",
       "2 LEW      ATP-L Advanced Testing Program - Leafspot LS     2.55   \n",
       "3 LEW      ATP-L Advanced Testing Program - Leafspot LS     7.17   \n",
       "4 LEW      ATP-L Advanced Testing Program - Leafspot LS     7.19   \n",
       "5 LEW      ATP-L Advanced Testing Program - Leafspot LS     2.00   \n",
       "6 LEW      ATP-L Advanced Testing Program - Leafspot LS     2.00   "
      ]
     },
     "metadata": {},
     "output_type": "display_data"
    }
   ],
   "source": [
    "head(leaf.spot_sub)"
   ]
  },
  {
   "cell_type": "code",
   "execution_count": 19,
   "metadata": {},
   "outputs": [
    {
     "data": {
      "text/html": [
       "<table>\n",
       "<thead><tr><th scope=col>Group.1</th><th scope=col>c.2.5..2.55..7.17..7.19..2..2..4..3..7.01..6.5..5.79..4.71..6..</th></tr></thead>\n",
       "<tbody>\n",
       "\t<tr><td>Bailey   </td><td>4.828000 </td></tr>\n",
       "\t<tr><td>Bailey II</td><td>4.981250 </td></tr>\n",
       "\t<tr><td>Emery    </td><td>6.089167 </td></tr>\n",
       "\t<tr><td>N96076   </td><td>4.194375 </td></tr>\n",
       "\t<tr><td>Sullivan </td><td>5.048667 </td></tr>\n",
       "\t<tr><td>Wynne    </td><td>5.545625 </td></tr>\n",
       "</tbody>\n",
       "</table>\n"
      ],
      "text/latex": [
       "\\begin{tabular}{r|ll}\n",
       " Group.1 & c.2.5..2.55..7.17..7.19..2..2..4..3..7.01..6.5..5.79..4.71..6..\\\\\n",
       "\\hline\n",
       "\t Bailey    & 4.828000 \\\\\n",
       "\t Bailey II & 4.981250 \\\\\n",
       "\t Emery     & 6.089167 \\\\\n",
       "\t N96076    & 4.194375 \\\\\n",
       "\t Sullivan  & 5.048667 \\\\\n",
       "\t Wynne     & 5.545625 \\\\\n",
       "\\end{tabular}\n"
      ],
      "text/markdown": [
       "\n",
       "| Group.1 | c.2.5..2.55..7.17..7.19..2..2..4..3..7.01..6.5..5.79..4.71..6.. |\n",
       "|---|---|\n",
       "| Bailey    | 4.828000  |\n",
       "| Bailey II | 4.981250  |\n",
       "| Emery     | 6.089167  |\n",
       "| N96076    | 4.194375  |\n",
       "| Sullivan  | 5.048667  |\n",
       "| Wynne     | 5.545625  |\n",
       "\n"
      ],
      "text/plain": [
       "  Group.1   c.2.5..2.55..7.17..7.19..2..2..4..3..7.01..6.5..5.79..4.71..6..\n",
       "1 Bailey    4.828000                                                       \n",
       "2 Bailey II 4.981250                                                       \n",
       "3 Emery     6.089167                                                       \n",
       "4 N96076    4.194375                                                       \n",
       "5 Sullivan  5.048667                                                       \n",
       "6 Wynne     5.545625                                                       "
      ]
     },
     "metadata": {},
     "output_type": "display_data"
    }
   ],
   "source": [
    "aggregate(Disease ~ NC_Accession, data = leaf.spot_sub, mean)\n",
    "\n",
    "#aggregate(list(leaf.spot_sub$Disease), list(leaf.spot_sub$NC_Accession), FUN = \"mean\")"
   ]
  },
  {
   "cell_type": "code",
   "execution_count": 17,
   "metadata": {},
   "outputs": [
    {
     "data": {
      "text/html": [
       "<ol class=list-inline>\n",
       "\t<li>'data.table'</li>\n",
       "\t<li>'data.frame'</li>\n",
       "</ol>\n"
      ],
      "text/latex": [
       "\\begin{enumerate*}\n",
       "\\item 'data.table'\n",
       "\\item 'data.frame'\n",
       "\\end{enumerate*}\n"
      ],
      "text/markdown": [
       "1. 'data.table'\n",
       "2. 'data.frame'\n",
       "\n",
       "\n"
      ],
      "text/plain": [
       "[1] \"data.table\" \"data.frame\""
      ]
     },
     "metadata": {},
     "output_type": "display_data"
    }
   ],
   "source": [
    "class(leaf.spot)"
   ]
  },
  {
   "cell_type": "code",
   "execution_count": null,
   "metadata": {},
   "outputs": [],
   "source": []
  },
  {
   "cell_type": "code",
   "execution_count": 105,
   "metadata": {},
   "outputs": [
    {
     "name": "stderr",
     "output_type": "stream",
     "text": [
      "also installing the dependencies 'rJava', 'xlsxjars'\n",
      "\n"
     ]
    },
    {
     "name": "stdout",
     "output_type": "stream",
     "text": [
      "package 'rJava' successfully unpacked and MD5 sums checked\n",
      "package 'xlsxjars' successfully unpacked and MD5 sums checked\n",
      "package 'xlsx' successfully unpacked and MD5 sums checked\n",
      "\n",
      "The downloaded binary packages are in\n",
      "\tC:\\Users\\cheph\\AppData\\Local\\Temp\\RtmpwzdtIY\\downloaded_packages\n"
     ]
    }
   ],
   "source": [
    "install.packages('xlsx',repos=\"http://cran.rstudio.com/\")"
   ]
  },
  {
   "cell_type": "code",
   "execution_count": 111,
   "metadata": {},
   "outputs": [
    {
     "ename": "ERROR",
     "evalue": "Error: package or namespace load failed for 'xlsx':\n .onLoad failed in loadNamespace() for 'rJava', details:\n  call: fun(libname, pkgname)\n  error: JAVA_HOME cannot be determined from the Registry\n",
     "output_type": "error",
     "traceback": [
      "Error: package or namespace load failed for 'xlsx':\n .onLoad failed in loadNamespace() for 'rJava', details:\n  call: fun(libname, pkgname)\n  error: JAVA_HOME cannot be determined from the Registry\nTraceback:\n",
      "1. library(\"xlsx\")",
      "2. tryCatch({\n .     attr(package, \"LibPath\") <- which.lib.loc\n .     ns <- loadNamespace(package, lib.loc)\n .     env <- attachNamespace(ns, pos = pos, deps, exclude, include.only)\n . }, error = function(e) {\n .     P <- if (!is.null(cc <- conditionCall(e))) \n .         paste(\" in\", deparse(cc)[1L])\n .     else \"\"\n .     msg <- gettextf(\"package or namespace load failed for %s%s:\\n %s\", \n .         sQuote(package), P, conditionMessage(e))\n .     if (logical.return) \n .         message(paste(\"Error:\", msg), domain = NA)\n .     else stop(msg, call. = FALSE, domain = NA)\n . })",
      "3. tryCatchList(expr, classes, parentenv, handlers)",
      "4. tryCatchOne(expr, names, parentenv, handlers[[1L]])",
      "5. value[[3L]](cond)",
      "6. stop(msg, call. = FALSE, domain = NA)"
     ]
    }
   ],
   "source": [
    "library(\"xlsx\")"
   ]
  },
  {
   "cell_type": "code",
   "execution_count": 109,
   "metadata": {},
   "outputs": [
    {
     "ename": "ERROR",
     "evalue": "Error in write.xlsx(leaf.spot.max, \"leafspot.xlsx\"): could not find function \"write.xlsx\"\n",
     "output_type": "error",
     "traceback": [
      "Error in write.xlsx(leaf.spot.max, \"leafspot.xlsx\"): could not find function \"write.xlsx\"\nTraceback:\n"
     ]
    }
   ],
   "source": [
    "write.xlsx(leaf.spot.max, \"leafspot.xlsx\")"
   ]
  },
  {
   "cell_type": "code",
   "execution_count": 74,
   "metadata": {},
   "outputs": [
    {
     "data": {
      "text/html": [
       "<table>\n",
       "<thead><tr><th></th><th scope=col>Population</th><th scope=col>Income</th><th scope=col>Illiteracy</th><th scope=col>Life Exp</th><th scope=col>Murder</th><th scope=col>HS Grad</th><th scope=col>Frost</th><th scope=col>Area</th></tr></thead>\n",
       "<tbody>\n",
       "\t<tr><th scope=row>Alabama</th><td> 3615 </td><td>3624  </td><td>2.1   </td><td>69.05 </td><td>15.1  </td><td>41.3  </td><td> 20   </td><td> 50708</td></tr>\n",
       "\t<tr><th scope=row>Alaska</th><td>  365 </td><td>6315  </td><td>1.5   </td><td>69.31 </td><td>11.3  </td><td>66.7  </td><td>152   </td><td>566432</td></tr>\n",
       "\t<tr><th scope=row>Arizona</th><td> 2212 </td><td>4530  </td><td>1.8   </td><td>70.55 </td><td> 7.8  </td><td>58.1  </td><td> 15   </td><td>113417</td></tr>\n",
       "\t<tr><th scope=row>Arkansas</th><td> 2110 </td><td>3378  </td><td>1.9   </td><td>70.66 </td><td>10.1  </td><td>39.9  </td><td> 65   </td><td> 51945</td></tr>\n",
       "\t<tr><th scope=row>California</th><td>21198 </td><td>5114  </td><td>1.1   </td><td>71.71 </td><td>10.3  </td><td>62.6  </td><td> 20   </td><td>156361</td></tr>\n",
       "\t<tr><th scope=row>Colorado</th><td> 2541 </td><td>4884  </td><td>0.7   </td><td>72.06 </td><td> 6.8  </td><td>63.9  </td><td>166   </td><td>103766</td></tr>\n",
       "</tbody>\n",
       "</table>\n"
      ],
      "text/latex": [
       "\\begin{tabular}{r|llllllll}\n",
       "  & Population & Income & Illiteracy & Life Exp & Murder & HS Grad & Frost & Area\\\\\n",
       "\\hline\n",
       "\tAlabama &  3615  & 3624   & 2.1    & 69.05  & 15.1   & 41.3   &  20    &  50708\\\\\n",
       "\tAlaska &   365  & 6315   & 1.5    & 69.31  & 11.3   & 66.7   & 152    & 566432\\\\\n",
       "\tArizona &  2212  & 4530   & 1.8    & 70.55  &  7.8   & 58.1   &  15    & 113417\\\\\n",
       "\tArkansas &  2110  & 3378   & 1.9    & 70.66  & 10.1   & 39.9   &  65    &  51945\\\\\n",
       "\tCalifornia & 21198  & 5114   & 1.1    & 71.71  & 10.3   & 62.6   &  20    & 156361\\\\\n",
       "\tColorado &  2541  & 4884   & 0.7    & 72.06  &  6.8   & 63.9   & 166    & 103766\\\\\n",
       "\\end{tabular}\n"
      ],
      "text/markdown": [
       "\n",
       "| <!--/--> | Population | Income | Illiteracy | Life Exp | Murder | HS Grad | Frost | Area |\n",
       "|---|---|---|---|---|---|---|---|---|\n",
       "| Alabama |  3615  | 3624   | 2.1    | 69.05  | 15.1   | 41.3   |  20    |  50708 |\n",
       "| Alaska |   365  | 6315   | 1.5    | 69.31  | 11.3   | 66.7   | 152    | 566432 |\n",
       "| Arizona |  2212  | 4530   | 1.8    | 70.55  |  7.8   | 58.1   |  15    | 113417 |\n",
       "| Arkansas |  2110  | 3378   | 1.9    | 70.66  | 10.1   | 39.9   |  65    |  51945 |\n",
       "| California | 21198  | 5114   | 1.1    | 71.71  | 10.3   | 62.6   |  20    | 156361 |\n",
       "| Colorado |  2541  | 4884   | 0.7    | 72.06  |  6.8   | 63.9   | 166    | 103766 |\n",
       "\n"
      ],
      "text/plain": [
       "           Population Income Illiteracy Life Exp Murder HS Grad Frost Area  \n",
       "Alabama     3615      3624   2.1        69.05    15.1   41.3     20    50708\n",
       "Alaska       365      6315   1.5        69.31    11.3   66.7    152   566432\n",
       "Arizona     2212      4530   1.8        70.55     7.8   58.1     15   113417\n",
       "Arkansas    2110      3378   1.9        70.66    10.1   39.9     65    51945\n",
       "California 21198      5114   1.1        71.71    10.3   62.6     20   156361\n",
       "Colorado    2541      4884   0.7        72.06     6.8   63.9    166   103766"
      ]
     },
     "metadata": {},
     "output_type": "display_data"
    }
   ],
   "source": [
    "head(state.x77)"
   ]
  },
  {
   "cell_type": "code",
   "execution_count": null,
   "metadata": {},
   "outputs": [],
   "source": []
  }
 ],
 "metadata": {
  "kernelspec": {
   "display_name": "R",
   "language": "R",
   "name": "ir"
  },
  "language_info": {
   "name": ""
  }
 },
 "nbformat": 4,
 "nbformat_minor": 4
}
